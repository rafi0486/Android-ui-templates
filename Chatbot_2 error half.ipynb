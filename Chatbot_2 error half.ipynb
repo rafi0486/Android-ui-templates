{
  "nbformat": 4,
  "nbformat_minor": 0,
  "metadata": {
    "colab": {
      "name": "Chatbot_2.ipynb",
      "provenance": [],
      "collapsed_sections": [],
      "toc_visible": true,
      "include_colab_link": true
    },
    "kernelspec": {
      "name": "python3",
      "display_name": "Python 3"
    },
    "accelerator": "GPU"
  },
  "cells": [
    {
      "cell_type": "markdown",
      "metadata": {
        "id": "view-in-github",
        "colab_type": "text"
      },
      "source": [
        "<a href=\"https://colab.research.google.com/github/rafi0486/Android-ui-templates/blob/master/Chatbot_2%20error%20half.ipynb\" target=\"_parent\"><img src=\"https://colab.research.google.com/assets/colab-badge.svg\" alt=\"Open In Colab\"/></a>"
      ]
    },
    {
      "cell_type": "markdown",
      "metadata": {
        "id": "w254faCsoNvW",
        "colab_type": "text"
      },
      "source": [
        ""
      ]
    },
    {
      "cell_type": "code",
      "metadata": {
        "id": "9cgyDdZEXxgF",
        "colab_type": "code",
        "colab": {}
      },
      "source": [
        "%matplotlib inline\n",
        "\n",
        "import logging, io, json, warnings\n",
        "logging.basicConfig(level=\"INFO\")\n",
        "warnings.filterwarnings('ignore')\n",
        "\n",
        "def pprint(o):\n",
        "    # small helper to make dict dumps a bit prettier\n",
        "    print(json.dumps(o, indent=2))"
      ],
      "execution_count": 0,
      "outputs": []
    },
    {
      "cell_type": "markdown",
      "metadata": {
        "id": "sU0GwCWeoli6",
        "colab_type": "text"
      },
      "source": [
        "####Install Rasa NLU and Rasa Core."
      ]
    },
    {
      "cell_type": "code",
      "metadata": {
        "id": "hb-0usCorxNj",
        "colab_type": "code",
        "colab": {}
      },
      "source": [
        ""
      ],
      "execution_count": 0,
      "outputs": []
    },
    {
      "cell_type": "code",
      "metadata": {
        "id": "Tw9VfQUUX7Tv",
        "colab_type": "code",
        "outputId": "8e049747-f10a-4e21-94c4-affb4a7d2b05",
        "colab": {
          "base_uri": "https://localhost:8080/",
          "height": 1000
        }
      },
      "source": [
        "import sys\n",
        "python = sys.executable\n",
        "\n",
        "# In your environment run:\n",
        "!{python} -m pip install -U rasa_core==0.9.6 rasa_nlu[spacy]===0.12.3;\n",
        "!{python} -m pip install MySQL-python;\n",
        "!{python} -m  pip install MySQL-python-connector;\n",
        "\n",
        "# as well as install a language model:\n",
        "!{python} -m spacy download en_core_web_md\n",
        "!{python} -m spacy link en_core_web_md en --force;\n",
        "!pip install mysql-connector-python\n",
        "\n",
        "\n"
      ],
      "execution_count": 2,
      "outputs": [
        {
          "output_type": "stream",
          "text": [
            "Collecting rasa_core==0.9.6\n",
            "\u001b[?25l  Downloading https://files.pythonhosted.org/packages/72/de/82e762685a991351a9f89d934b1b25fe04d10462cf4017f93227cb4d9058/rasa_core-0.9.6-py2.py3-none-any.whl (125kB)\n",
            "\u001b[K     |████████████████████████████████| 133kB 3.5MB/s \n",
            "\u001b[?25hCollecting rasa_nlu[spacy]===0.12.3\n",
            "\u001b[?25l  Downloading https://files.pythonhosted.org/packages/e7/24/9dacfae4525ea885c1d908878296ad705512eb6f72a95a51fbd728ea6fa8/rasa_nlu-0.12.3-py2.py3-none-any.whl (131kB)\n",
            "\u001b[K     |████████████████████████████████| 133kB 35.1MB/s \n",
            "\u001b[?25hRequirement already satisfied, skipping upgrade: networkx~=2.0 in /usr/local/lib/python3.6/dist-packages (from rasa_core==0.9.6) (2.3)\n",
            "Collecting scikit-learn~=0.19.0 (from rasa_core==0.9.6)\n",
            "\u001b[?25l  Downloading https://files.pythonhosted.org/packages/f9/c8/8db4108aba5e2166cd2ea4eafa1a4b82f89240a1fa85733029cc2358ad1f/scikit_learn-0.19.2-cp36-cp36m-manylinux1_x86_64.whl (4.9MB)\n",
            "\u001b[K     |████████████████████████████████| 4.9MB 39.6MB/s \n",
            "\u001b[?25hCollecting ConfigArgParse~=0.13.0 (from rasa_core==0.9.6)\n",
            "  Downloading https://files.pythonhosted.org/packages/77/61/ae928ce6ab85d4479ea198488cf5ffa371bd4ece2030c0ee85ff668deac5/ConfigArgParse-0.13.0.tar.gz\n",
            "Collecting fbmessenger~=5.0 (from rasa_core==0.9.6)\n",
            "  Downloading https://files.pythonhosted.org/packages/51/9d/9a426160e00c3c9d839314685fcec1f60ad04888be4228399dadb37c3226/fbmessenger-5.6.0-py2.py3-none-any.whl\n",
            "Collecting redis~=2.0 (from rasa_core==0.9.6)\n",
            "\u001b[?25l  Downloading https://files.pythonhosted.org/packages/3b/f6/7a76333cf0b9251ecf49efff635015171843d9b977e4ffcf59f9c4428052/redis-2.10.6-py2.py3-none-any.whl (64kB)\n",
            "\u001b[K     |████████████████████████████████| 71kB 25.0MB/s \n",
            "\u001b[?25hCollecting twilio~=6.0 (from rasa_core==0.9.6)\n",
            "\u001b[?25l  Downloading https://files.pythonhosted.org/packages/0b/1e/e5b2acb5f73578aef493ce79cf3bab92f2236a4da9693409fc804caebf63/twilio-6.31.1-py2.py3-none-any.whl (1.0MB)\n",
            "\u001b[K     |████████████████████████████████| 1.0MB 34.5MB/s \n",
            "\u001b[?25hCollecting colorhash~=1.0 (from rasa_core==0.9.6)\n",
            "  Downloading https://files.pythonhosted.org/packages/0e/e1/50dbc513aa74e99eca4c47f2a8206711f0bec436fdddd95eebaf7eaaa1aa/colorhash-1.0.2-py2.py3-none-any.whl\n",
            "Collecting apscheduler~=3.0 (from rasa_core==0.9.6)\n",
            "\u001b[?25l  Downloading https://files.pythonhosted.org/packages/09/ff/d5b0e81846cd5e92d02e5f2682b78c73a5d9d61bc1eae32cea5ac15c0d47/APScheduler-3.6.1-py2.py3-none-any.whl (58kB)\n",
            "\u001b[K     |████████████████████████████████| 61kB 23.3MB/s \n",
            "\u001b[?25hCollecting coloredlogs~=10.0 (from rasa_core==0.9.6)\n",
            "\u001b[?25l  Downloading https://files.pythonhosted.org/packages/08/0f/7877fc42fff0b9d70b6442df62d53b3868d3a6ad1b876bdb54335b30ff23/coloredlogs-10.0-py2.py3-none-any.whl (47kB)\n",
            "\u001b[K     |████████████████████████████████| 51kB 22.7MB/s \n",
            "\u001b[?25hRequirement already satisfied, skipping upgrade: tqdm~=4.0 in /usr/local/lib/python3.6/dist-packages (from rasa_core==0.9.6) (4.28.1)\n",
            "Collecting jsonpickle~=0.9.0 (from rasa_core==0.9.6)\n",
            "\u001b[?25l  Downloading https://files.pythonhosted.org/packages/32/d5/2f47f03d3f64c31b0d7070b488274631d7567c36e81a9f744e6638bb0f0d/jsonpickle-0.9.6.tar.gz (67kB)\n",
            "\u001b[K     |████████████████████████████████| 71kB 26.4MB/s \n",
            "\u001b[?25hCollecting mattermostwrapper~=2.0 (from rasa_core==0.9.6)\n",
            "  Downloading https://files.pythonhosted.org/packages/93/70/203660597d12788e958dd691aa11c3c29caa075eadb2ce94d2eb53099d1b/mattermostwrapper-2.1-py2.py3-none-any.whl\n",
            "Requirement already satisfied, skipping upgrade: keras~=2.0 in /usr/local/lib/python3.6/dist-packages (from rasa_core==0.9.6) (2.2.5)\n",
            "Requirement already satisfied, skipping upgrade: requests~=2.15 in /usr/local/lib/python3.6/dist-packages (from rasa_core==0.9.6) (2.21.0)\n",
            "Collecting tensorflow<1.9,>=1.7 (from rasa_core==0.9.6)\n",
            "\u001b[?25l  Downloading https://files.pythonhosted.org/packages/22/c6/d08f7c549330c2acc1b18b5c1f0f8d9d2af92f54d56861f331f372731671/tensorflow-1.8.0-cp36-cp36m-manylinux1_x86_64.whl (49.1MB)\n",
            "\u001b[K     |████████████████████████████████| 49.1MB 35.0MB/s \n",
            "\u001b[?25hRequirement already satisfied, skipping upgrade: numpy~=1.13 in /usr/local/lib/python3.6/dist-packages (from rasa_core==0.9.6) (1.16.5)\n",
            "Requirement already satisfied, skipping upgrade: six~=1.0 in /usr/local/lib/python3.6/dist-packages (from rasa_core==0.9.6) (1.12.0)\n",
            "Collecting typing~=3.0 (from rasa_core==0.9.6)\n",
            "  Downloading https://files.pythonhosted.org/packages/fe/2e/b480ee1b75e6d17d2993738670e75c1feeb9ff7f64452153cf018051cc92/typing-3.7.4.1-py3-none-any.whl\n",
            "Collecting ruamel.yaml~=0.15.0 (from rasa_core==0.9.6)\n",
            "\u001b[?25l  Downloading https://files.pythonhosted.org/packages/e7/9f/83bb34eaf84032b0b54fcc4a6aff1858572d279d65a301c7ae875f523df5/ruamel.yaml-0.15.100-cp36-cp36m-manylinux1_x86_64.whl (656kB)\n",
            "\u001b[K     |████████████████████████████████| 665kB 40.3MB/s \n",
            "\u001b[?25hCollecting fakeredis~=0.10.0 (from rasa_core==0.9.6)\n",
            "  Downloading https://files.pythonhosted.org/packages/64/bd/2756ddf350c4bb308e3255f9dcd6610f8b01344947bf74d5d166dc66b0a2/fakeredis-0.10.3-py2.py3-none-any.whl\n",
            "Requirement already satisfied, skipping upgrade: h5py~=2.0 in /usr/local/lib/python3.6/dist-packages (from rasa_core==0.9.6) (2.8.0)\n",
            "Requirement already satisfied, skipping upgrade: flask~=1.0 in /usr/local/lib/python3.6/dist-packages (from rasa_core==0.9.6) (1.1.1)\n",
            "Collecting pykwalify<=1.6.0 (from rasa_core==0.9.6)\n",
            "  Downloading https://files.pythonhosted.org/packages/6e/59/55c32d59b462a9c3fae2ab25f179f91d61617c0215e9f8ba3f4966b2b8b1/pykwalify-1.6.0-py2.py3-none-any.whl\n",
            "Collecting python-telegram-bot~=10.0 (from rasa_core==0.9.6)\n",
            "\u001b[?25l  Downloading https://files.pythonhosted.org/packages/f1/51/d1bd383522c12b313eddd7b97b8e7d6cd2a8e3b44b8ff3c88e4a7b045cc8/python_telegram_bot-10.1.0-py2.py3-none-any.whl (298kB)\n",
            "\u001b[K     |████████████████████████████████| 307kB 42.2MB/s \n",
            "\u001b[?25hCollecting graphviz~=0.8.0 (from rasa_core==0.9.6)\n",
            "  Downloading https://files.pythonhosted.org/packages/53/39/4ab213673844e0c004bed8a0781a0721a3f6bb23eb8854ee75c236428892/graphviz-0.8.4-py2.py3-none-any.whl\n",
            "Collecting slackclient~=1.0 (from rasa_core==0.9.6)\n",
            "  Downloading https://files.pythonhosted.org/packages/7c/2f/9b6db4c7686be3dc6b4244eaef4f37226a2ccca1a796516d4adcdfeefe56/slackclient-1.3.2.tar.gz\n",
            "Requirement already satisfied, skipping upgrade: future~=0.16 in /usr/local/lib/python3.6/dist-packages (from rasa_core==0.9.6) (0.16.0)\n",
            "Collecting flask-cors~=3.0 (from rasa_core==0.9.6)\n",
            "  Downloading https://files.pythonhosted.org/packages/78/38/e68b11daa5d613e3a91e4bf3da76c94ac9ee0d9cd515af9c1ab80d36f709/Flask_Cors-3.0.8-py2.py3-none-any.whl\n",
            "Requirement already satisfied, skipping upgrade: pathlib in /usr/local/lib/python3.6/dist-packages (from rasa_nlu[spacy]===0.12.3) (1.0.1)\n",
            "Collecting klein (from rasa_nlu[spacy]===0.12.3)\n",
            "\u001b[?25l  Downloading https://files.pythonhosted.org/packages/90/5b/c7535e863280e74dd58dd4ee5cb6bc6725f43aa3109324f62178362959ca/klein-19.6.0-py2.py3-none-any.whl (117kB)\n",
            "\u001b[K     |████████████████████████████████| 122kB 40.6MB/s \n",
            "\u001b[?25hRequirement already satisfied, skipping upgrade: pyyaml in /usr/local/lib/python3.6/dist-packages (from rasa_nlu[spacy]===0.12.3) (3.13)\n",
            "Collecting simplejson (from rasa_nlu[spacy]===0.12.3)\n",
            "\u001b[?25l  Downloading https://files.pythonhosted.org/packages/e3/24/c35fb1c1c315fc0fffe61ea00d3f88e85469004713dab488dee4f35b0aff/simplejson-3.16.0.tar.gz (81kB)\n",
            "\u001b[K     |████████████████████████████████| 81kB 23.5MB/s \n",
            "\u001b[?25hRequirement already satisfied, skipping upgrade: jsonschema in /usr/local/lib/python3.6/dist-packages (from rasa_nlu[spacy]===0.12.3) (2.6.0)\n",
            "Requirement already satisfied, skipping upgrade: boto3 in /usr/local/lib/python3.6/dist-packages (from rasa_nlu[spacy]===0.12.3) (1.9.243)\n",
            "Requirement already satisfied, skipping upgrade: matplotlib in /usr/local/lib/python3.6/dist-packages (from rasa_nlu[spacy]===0.12.3) (3.0.3)\n",
            "Requirement already satisfied, skipping upgrade: packaging in /usr/local/lib/python3.6/dist-packages (from rasa_nlu[spacy]===0.12.3) (19.2)\n",
            "Requirement already satisfied, skipping upgrade: cloudpickle in /usr/local/lib/python3.6/dist-packages (from rasa_nlu[spacy]===0.12.3) (0.6.1)\n",
            "Requirement already satisfied, skipping upgrade: gevent in /usr/local/lib/python3.6/dist-packages (from rasa_nlu[spacy]===0.12.3) (1.4.0)\n",
            "Collecting sklearn-crfsuite; extra == \"spacy\" (from rasa_nlu[spacy]===0.12.3)\n",
            "  Downloading https://files.pythonhosted.org/packages/25/74/5b7befa513482e6dee1f3dd68171a6c9dfc14c0eaa00f885ffeba54fe9b0/sklearn_crfsuite-0.3.6-py2.py3-none-any.whl\n",
            "Requirement already satisfied, skipping upgrade: scipy; extra == \"spacy\" in /usr/local/lib/python3.6/dist-packages (from rasa_nlu[spacy]===0.12.3) (1.3.1)\n",
            "Requirement already satisfied, skipping upgrade: spacy>2.0; extra == \"spacy\" in /usr/local/lib/python3.6/dist-packages (from rasa_nlu[spacy]===0.12.3) (2.1.8)\n",
            "Requirement already satisfied, skipping upgrade: decorator>=4.3.0 in /usr/local/lib/python3.6/dist-packages (from networkx~=2.0->rasa_core==0.9.6) (4.4.0)\n",
            "Requirement already satisfied, skipping upgrade: pytz in /usr/local/lib/python3.6/dist-packages (from twilio~=6.0->rasa_core==0.9.6) (2018.9)\n",
            "Collecting PyJWT>=1.4.2 (from twilio~=6.0->rasa_core==0.9.6)\n",
            "  Downloading https://files.pythonhosted.org/packages/87/8b/6a9f14b5f781697e51259d81657e6048fd31a113229cf346880bb7545565/PyJWT-1.7.1-py2.py3-none-any.whl\n",
            "Requirement already satisfied, skipping upgrade: pysocks; python_version >= \"3.0\" in /usr/local/lib/python3.6/dist-packages (from twilio~=6.0->rasa_core==0.9.6) (1.7.1)\n",
            "Requirement already satisfied, skipping upgrade: tzlocal>=1.2 in /usr/local/lib/python3.6/dist-packages (from apscheduler~=3.0->rasa_core==0.9.6) (1.5.1)\n",
            "Requirement already satisfied, skipping upgrade: setuptools>=0.7 in /usr/local/lib/python3.6/dist-packages (from apscheduler~=3.0->rasa_core==0.9.6) (41.2.0)\n",
            "Collecting humanfriendly>=4.7 (from coloredlogs~=10.0->rasa_core==0.9.6)\n",
            "\u001b[?25l  Downloading https://files.pythonhosted.org/packages/90/df/88bff450f333114680698dc4aac7506ff7cab164b794461906de31998665/humanfriendly-4.18-py2.py3-none-any.whl (73kB)\n",
            "\u001b[K     |████████████████████████████████| 81kB 25.1MB/s \n",
            "\u001b[?25hRequirement already satisfied, skipping upgrade: keras-applications>=1.0.8 in /usr/local/lib/python3.6/dist-packages (from keras~=2.0->rasa_core==0.9.6) (1.0.8)\n",
            "Requirement already satisfied, skipping upgrade: keras-preprocessing>=1.1.0 in /usr/local/lib/python3.6/dist-packages (from keras~=2.0->rasa_core==0.9.6) (1.1.0)\n",
            "Requirement already satisfied, skipping upgrade: idna<2.9,>=2.5 in /usr/local/lib/python3.6/dist-packages (from requests~=2.15->rasa_core==0.9.6) (2.8)\n",
            "Requirement already satisfied, skipping upgrade: urllib3<1.25,>=1.21.1 in /usr/local/lib/python3.6/dist-packages (from requests~=2.15->rasa_core==0.9.6) (1.24.3)\n",
            "Requirement already satisfied, skipping upgrade: chardet<3.1.0,>=3.0.2 in /usr/local/lib/python3.6/dist-packages (from requests~=2.15->rasa_core==0.9.6) (3.0.4)\n",
            "Requirement already satisfied, skipping upgrade: certifi>=2017.4.17 in /usr/local/lib/python3.6/dist-packages (from requests~=2.15->rasa_core==0.9.6) (2019.9.11)\n",
            "Requirement already satisfied, skipping upgrade: absl-py>=0.1.6 in /usr/local/lib/python3.6/dist-packages (from tensorflow<1.9,>=1.7->rasa_core==0.9.6) (0.8.0)\n",
            "Requirement already satisfied, skipping upgrade: grpcio>=1.8.6 in /usr/local/lib/python3.6/dist-packages (from tensorflow<1.9,>=1.7->rasa_core==0.9.6) (1.15.0)\n",
            "Requirement already satisfied, skipping upgrade: astor>=0.6.0 in /usr/local/lib/python3.6/dist-packages (from tensorflow<1.9,>=1.7->rasa_core==0.9.6) (0.8.0)\n",
            "Requirement already satisfied, skipping upgrade: wheel>=0.26 in /usr/local/lib/python3.6/dist-packages (from tensorflow<1.9,>=1.7->rasa_core==0.9.6) (0.33.6)\n",
            "Requirement already satisfied, skipping upgrade: protobuf>=3.4.0 in /usr/local/lib/python3.6/dist-packages (from tensorflow<1.9,>=1.7->rasa_core==0.9.6) (3.7.1)\n",
            "Collecting tensorboard<1.9.0,>=1.8.0 (from tensorflow<1.9,>=1.7->rasa_core==0.9.6)\n",
            "\u001b[?25l  Downloading https://files.pythonhosted.org/packages/59/a6/0ae6092b7542cfedba6b2a1c9b8dceaf278238c39484f3ba03b03f07803c/tensorboard-1.8.0-py3-none-any.whl (3.1MB)\n",
            "\u001b[K     |████████████████████████████████| 3.1MB 29.4MB/s \n",
            "\u001b[?25hRequirement already satisfied, skipping upgrade: gast>=0.2.0 in /usr/local/lib/python3.6/dist-packages (from tensorflow<1.9,>=1.7->rasa_core==0.9.6) (0.2.2)\n",
            "Requirement already satisfied, skipping upgrade: termcolor>=1.1.0 in /usr/local/lib/python3.6/dist-packages (from tensorflow<1.9,>=1.7->rasa_core==0.9.6) (1.1.0)\n",
            "Requirement already satisfied, skipping upgrade: click>=5.1 in /usr/local/lib/python3.6/dist-packages (from flask~=1.0->rasa_core==0.9.6) (7.0)\n",
            "Requirement already satisfied, skipping upgrade: Werkzeug>=0.15 in /usr/local/lib/python3.6/dist-packages (from flask~=1.0->rasa_core==0.9.6) (0.16.0)\n",
            "Requirement already satisfied, skipping upgrade: Jinja2>=2.10.1 in /usr/local/lib/python3.6/dist-packages (from flask~=1.0->rasa_core==0.9.6) (2.10.3)\n",
            "Requirement already satisfied, skipping upgrade: itsdangerous>=0.24 in /usr/local/lib/python3.6/dist-packages (from flask~=1.0->rasa_core==0.9.6) (1.1.0)\n",
            "Requirement already satisfied, skipping upgrade: docopt>=0.6.2 in /usr/local/lib/python3.6/dist-packages (from pykwalify<=1.6.0->rasa_core==0.9.6) (0.6.2)\n",
            "Requirement already satisfied, skipping upgrade: python-dateutil>=2.4.2 in /usr/local/lib/python3.6/dist-packages (from pykwalify<=1.6.0->rasa_core==0.9.6) (2.5.3)\n",
            "Collecting websocket-client<0.55.0,>=0.35 (from slackclient~=1.0->rasa_core==0.9.6)\n",
            "\u001b[?25l  Downloading https://files.pythonhosted.org/packages/26/2d/f749a5c82f6192d77ed061a38e02001afcba55fe8477336d26a950ab17ce/websocket_client-0.54.0-py2.py3-none-any.whl (200kB)\n",
            "\u001b[K     |████████████████████████████████| 204kB 48.4MB/s \n",
            "\u001b[?25hCollecting Twisted>=15.5 (from klein->rasa_nlu[spacy]===0.12.3)\n",
            "\u001b[?25l  Downloading https://files.pythonhosted.org/packages/14/49/eb654da38b15285d1f594933eefff36ce03106356197dba28ee8f5721a79/Twisted-19.7.0-cp36-cp36m-manylinux1_x86_64.whl (3.1MB)\n",
            "\u001b[K     |████████████████████████████████| 3.1MB 33.7MB/s \n",
            "\u001b[?25hCollecting zope.interface (from klein->rasa_nlu[spacy]===0.12.3)\n",
            "\u001b[?25l  Downloading https://files.pythonhosted.org/packages/19/17/1d198a6aaa9aa4590862fe3d3a2ed7dd808050cab4eebe8a2f2f813c1376/zope.interface-4.6.0-cp36-cp36m-manylinux1_x86_64.whl (167kB)\n",
            "\u001b[K     |████████████████████████████████| 174kB 39.5MB/s \n",
            "\u001b[?25hCollecting incremental (from klein->rasa_nlu[spacy]===0.12.3)\n",
            "  Downloading https://files.pythonhosted.org/packages/f5/1d/c98a587dc06e107115cf4a58b49de20b19222c83d75335a192052af4c4b7/incremental-17.5.0-py2.py3-none-any.whl\n",
            "Collecting hyperlink (from klein->rasa_nlu[spacy]===0.12.3)\n",
            "  Downloading https://files.pythonhosted.org/packages/7f/91/e916ca10a2de1cb7101a9b24da546fb90ee14629e23160086cf3361c4fb8/hyperlink-19.0.0-py2.py3-none-any.whl\n",
            "Collecting Tubes (from klein->rasa_nlu[spacy]===0.12.3)\n",
            "\u001b[?25l  Downloading https://files.pythonhosted.org/packages/f2/c4/f11f6e63856fd4307a905c6adf52967b5951197ad52efd847cb1b37d1c5d/Tubes-0.2.0-py2.py3-none-any.whl (58kB)\n",
            "\u001b[K     |████████████████████████████████| 61kB 24.0MB/s \n",
            "\u001b[?25hRequirement already satisfied, skipping upgrade: attrs in /usr/local/lib/python3.6/dist-packages (from klein->rasa_nlu[spacy]===0.12.3) (19.2.0)\n",
            "Requirement already satisfied, skipping upgrade: s3transfer<0.3.0,>=0.2.0 in /usr/local/lib/python3.6/dist-packages (from boto3->rasa_nlu[spacy]===0.12.3) (0.2.1)\n",
            "Requirement already satisfied, skipping upgrade: botocore<1.13.0,>=1.12.243 in /usr/local/lib/python3.6/dist-packages (from boto3->rasa_nlu[spacy]===0.12.3) (1.12.243)\n",
            "Requirement already satisfied, skipping upgrade: jmespath<1.0.0,>=0.7.1 in /usr/local/lib/python3.6/dist-packages (from boto3->rasa_nlu[spacy]===0.12.3) (0.9.4)\n",
            "Requirement already satisfied, skipping upgrade: kiwisolver>=1.0.1 in /usr/local/lib/python3.6/dist-packages (from matplotlib->rasa_nlu[spacy]===0.12.3) (1.1.0)\n",
            "Requirement already satisfied, skipping upgrade: cycler>=0.10 in /usr/local/lib/python3.6/dist-packages (from matplotlib->rasa_nlu[spacy]===0.12.3) (0.10.0)\n",
            "Requirement already satisfied, skipping upgrade: pyparsing!=2.0.4,!=2.1.2,!=2.1.6,>=2.0.1 in /usr/local/lib/python3.6/dist-packages (from matplotlib->rasa_nlu[spacy]===0.12.3) (2.4.2)\n",
            "Requirement already satisfied, skipping upgrade: greenlet>=0.4.14; platform_python_implementation == \"CPython\" in /usr/local/lib/python3.6/dist-packages (from gevent->rasa_nlu[spacy]===0.12.3) (0.4.15)\n",
            "Requirement already satisfied, skipping upgrade: tabulate in /usr/local/lib/python3.6/dist-packages (from sklearn-crfsuite; extra == \"spacy\"->rasa_nlu[spacy]===0.12.3) (0.8.5)\n",
            "Collecting python-crfsuite>=0.8.3 (from sklearn-crfsuite; extra == \"spacy\"->rasa_nlu[spacy]===0.12.3)\n",
            "\u001b[?25l  Downloading https://files.pythonhosted.org/packages/2f/86/cfcd71edca9d25d3d331209a20f6314b6f3f134c29478f90559cee9ce091/python_crfsuite-0.9.6-cp36-cp36m-manylinux1_x86_64.whl (754kB)\n",
            "\u001b[K     |████████████████████████████████| 757kB 32.0MB/s \n",
            "\u001b[?25hRequirement already satisfied, skipping upgrade: plac<1.0.0,>=0.9.6 in /usr/local/lib/python3.6/dist-packages (from spacy>2.0; extra == \"spacy\"->rasa_nlu[spacy]===0.12.3) (0.9.6)\n",
            "Requirement already satisfied, skipping upgrade: blis<0.3.0,>=0.2.2 in /usr/local/lib/python3.6/dist-packages (from spacy>2.0; extra == \"spacy\"->rasa_nlu[spacy]===0.12.3) (0.2.4)\n",
            "Requirement already satisfied, skipping upgrade: murmurhash<1.1.0,>=0.28.0 in /usr/local/lib/python3.6/dist-packages (from spacy>2.0; extra == \"spacy\"->rasa_nlu[spacy]===0.12.3) (1.0.2)\n",
            "Requirement already satisfied, skipping upgrade: thinc<7.1.0,>=7.0.8 in /usr/local/lib/python3.6/dist-packages (from spacy>2.0; extra == \"spacy\"->rasa_nlu[spacy]===0.12.3) (7.0.8)\n",
            "Requirement already satisfied, skipping upgrade: srsly<1.1.0,>=0.0.6 in /usr/local/lib/python3.6/dist-packages (from spacy>2.0; extra == \"spacy\"->rasa_nlu[spacy]===0.12.3) (0.1.0)\n",
            "Requirement already satisfied, skipping upgrade: cymem<2.1.0,>=2.0.2 in /usr/local/lib/python3.6/dist-packages (from spacy>2.0; extra == \"spacy\"->rasa_nlu[spacy]===0.12.3) (2.0.2)\n",
            "Requirement already satisfied, skipping upgrade: wasabi<1.1.0,>=0.2.0 in /usr/local/lib/python3.6/dist-packages (from spacy>2.0; extra == \"spacy\"->rasa_nlu[spacy]===0.12.3) (0.2.2)\n",
            "Requirement already satisfied, skipping upgrade: preshed<2.1.0,>=2.0.1 in /usr/local/lib/python3.6/dist-packages (from spacy>2.0; extra == \"spacy\"->rasa_nlu[spacy]===0.12.3) (2.0.1)\n",
            "Collecting bleach==1.5.0 (from tensorboard<1.9.0,>=1.8.0->tensorflow<1.9,>=1.7->rasa_core==0.9.6)\n",
            "  Downloading https://files.pythonhosted.org/packages/33/70/86c5fec937ea4964184d4d6c4f0b9551564f821e1c3575907639036d9b90/bleach-1.5.0-py2.py3-none-any.whl\n",
            "Collecting html5lib==0.9999999 (from tensorboard<1.9.0,>=1.8.0->tensorflow<1.9,>=1.7->rasa_core==0.9.6)\n",
            "\u001b[?25l  Downloading https://files.pythonhosted.org/packages/ae/ae/bcb60402c60932b32dfaf19bb53870b29eda2cd17551ba5639219fb5ebf9/html5lib-0.9999999.tar.gz (889kB)\n",
            "\u001b[K     |████████████████████████████████| 890kB 36.6MB/s \n",
            "\u001b[?25hRequirement already satisfied, skipping upgrade: markdown>=2.6.8 in /usr/local/lib/python3.6/dist-packages (from tensorboard<1.9.0,>=1.8.0->tensorflow<1.9,>=1.7->rasa_core==0.9.6) (3.1.1)\n",
            "Requirement already satisfied, skipping upgrade: MarkupSafe>=0.23 in /usr/local/lib/python3.6/dist-packages (from Jinja2>=2.10.1->flask~=1.0->rasa_core==0.9.6) (1.1.1)\n",
            "Collecting PyHamcrest>=1.9.0 (from Twisted>=15.5->klein->rasa_nlu[spacy]===0.12.3)\n",
            "\u001b[?25l  Downloading https://files.pythonhosted.org/packages/9a/d5/d37fd731b7d0e91afcc84577edeccf4638b4f9b82f5ffe2f8b62e2ddc609/PyHamcrest-1.9.0-py2.py3-none-any.whl (52kB)\n",
            "\u001b[K     |████████████████████████████████| 61kB 24.0MB/s \n",
            "\u001b[?25hCollecting Automat>=0.3.0 (from Twisted>=15.5->klein->rasa_nlu[spacy]===0.12.3)\n",
            "  Downloading https://files.pythonhosted.org/packages/a3/86/14c16bb98a5a3542ed8fed5d74fb064a902de3bdd98d6584b34553353c45/Automat-0.7.0-py2.py3-none-any.whl\n",
            "Collecting constantly>=15.1 (from Twisted>=15.5->klein->rasa_nlu[spacy]===0.12.3)\n",
            "  Downloading https://files.pythonhosted.org/packages/b9/65/48c1909d0c0aeae6c10213340ce682db01b48ea900a7d9fce7a7910ff318/constantly-15.1.0-py2.py3-none-any.whl\n",
            "Collecting characteristic (from Tubes->klein->rasa_nlu[spacy]===0.12.3)\n",
            "  Downloading https://files.pythonhosted.org/packages/fa/0d/7fa43a50feaa8896e9acbb91d2256dc1341e8f9a0be629138490ee1f849e/characteristic-14.3.0-py2.py3-none-any.whl\n",
            "Requirement already satisfied, skipping upgrade: docutils<0.16,>=0.10 in /usr/local/lib/python3.6/dist-packages (from botocore<1.13.0,>=1.12.243->boto3->rasa_nlu[spacy]===0.12.3) (0.15.2)\n",
            "Building wheels for collected packages: ConfigArgParse, jsonpickle, slackclient, simplejson, html5lib\n",
            "  Building wheel for ConfigArgParse (setup.py) ... \u001b[?25l\u001b[?25hdone\n",
            "  Created wheel for ConfigArgParse: filename=ConfigArgParse-0.13.0-cp36-none-any.whl size=17571 sha256=98bd88586d7a8209f7a2f6df32f379b130c3275da0488254d88b3bb4edb0271a\n",
            "  Stored in directory: /root/.cache/pip/wheels/76/11/eb/12113becd46c0e8a70b8a63f9405e46a1f61d4aaa8532d676b\n",
            "  Building wheel for jsonpickle (setup.py) ... \u001b[?25l\u001b[?25hdone\n",
            "  Created wheel for jsonpickle: filename=jsonpickle-0.9.6-cp36-none-any.whl size=29465 sha256=533d52a00398f2a92ef5d32cae47ddc17672ef8d31567f0d09d47a7b9a8467b3\n",
            "  Stored in directory: /root/.cache/pip/wheels/07/8b/41/8ce98f4737a9ff61b1bf2673f2abfe66a6a43ad6e91d2c9736\n",
            "  Building wheel for slackclient (setup.py) ... \u001b[?25l\u001b[?25hdone\n",
            "  Created wheel for slackclient: filename=slackclient-1.3.2-py2.py3-none-any.whl size=19228 sha256=7d3375bb7af374787ec816b25fe0c115b879ce9cb91a66b5a92fb8fd78ff1db2\n",
            "  Stored in directory: /root/.cache/pip/wheels/3b/d4/92/3458f0e1a3e1a9c8935d3b2db89a75d74d8d45601fedec752f\n",
            "  Building wheel for simplejson (setup.py) ... \u001b[?25l\u001b[?25hdone\n",
            "  Created wheel for simplejson: filename=simplejson-3.16.0-cp36-cp36m-linux_x86_64.whl size=114014 sha256=f148ba3229096e2f6641b6c035dabc82126d8f77bcab37c79ac632b0473eb096\n",
            "  Stored in directory: /root/.cache/pip/wheels/5d/1a/1e/0350bb3df3e74215cd91325344cc86c2c691f5306eb4d22c77\n",
            "  Building wheel for html5lib (setup.py) ... \u001b[?25l\u001b[?25hdone\n",
            "  Created wheel for html5lib: filename=html5lib-0.9999999-cp36-none-any.whl size=107221 sha256=2734db9920389056b173e223bca846b8539eac75c5de68065b10963fbb491d91\n",
            "  Stored in directory: /root/.cache/pip/wheels/50/ae/f9/d2b189788efcf61d1ee0e36045476735c838898eef1cad6e29\n",
            "Successfully built ConfigArgParse jsonpickle slackclient simplejson html5lib\n",
            "\u001b[31mERROR: yellowbrick 0.9.1 has requirement scikit-learn>=0.20, but you'll have scikit-learn 0.19.2 which is incompatible.\u001b[0m\n",
            "\u001b[31mERROR: magenta 0.3.19 has requirement tensorflow>=1.12.0, but you'll have tensorflow 1.8.0 which is incompatible.\u001b[0m\n",
            "\u001b[31mERROR: imbalanced-learn 0.4.3 has requirement scikit-learn>=0.20, but you'll have scikit-learn 0.19.2 which is incompatible.\u001b[0m\n",
            "Installing collected packages: scikit-learn, ConfigArgParse, fbmessenger, redis, PyJWT, twilio, colorhash, apscheduler, humanfriendly, coloredlogs, PyHamcrest, Automat, constantly, hyperlink, zope.interface, incremental, Twisted, characteristic, Tubes, typing, klein, simplejson, python-crfsuite, sklearn-crfsuite, rasa-nlu, jsonpickle, mattermostwrapper, html5lib, bleach, tensorboard, tensorflow, ruamel.yaml, fakeredis, pykwalify, python-telegram-bot, graphviz, websocket-client, slackclient, flask-cors, rasa-core\n",
            "  Found existing installation: scikit-learn 0.21.3\n",
            "    Uninstalling scikit-learn-0.21.3:\n",
            "      Successfully uninstalled scikit-learn-0.21.3\n",
            "  Found existing installation: html5lib 1.0.1\n",
            "    Uninstalling html5lib-1.0.1:\n",
            "      Successfully uninstalled html5lib-1.0.1\n",
            "  Found existing installation: bleach 3.1.0\n",
            "    Uninstalling bleach-3.1.0:\n",
            "      Successfully uninstalled bleach-3.1.0\n",
            "  Found existing installation: tensorboard 1.15.0\n",
            "    Uninstalling tensorboard-1.15.0:\n",
            "      Successfully uninstalled tensorboard-1.15.0\n",
            "  Found existing installation: tensorflow 1.15.0rc3\n",
            "    Uninstalling tensorflow-1.15.0rc3:\n",
            "      Successfully uninstalled tensorflow-1.15.0rc3\n",
            "  Found existing installation: graphviz 0.10.1\n",
            "    Uninstalling graphviz-0.10.1:\n",
            "      Successfully uninstalled graphviz-0.10.1\n",
            "Successfully installed Automat-0.7.0 ConfigArgParse-0.13.0 PyHamcrest-1.9.0 PyJWT-1.7.1 Tubes-0.2.0 Twisted-19.7.0 apscheduler-3.6.1 bleach-1.5.0 characteristic-14.3.0 coloredlogs-10.0 colorhash-1.0.2 constantly-15.1.0 fakeredis-0.10.3 fbmessenger-5.6.0 flask-cors-3.0.8 graphviz-0.8.4 html5lib-0.9999999 humanfriendly-4.18 hyperlink-19.0.0 incremental-17.5.0 jsonpickle-0.9.6 klein-19.6.0 mattermostwrapper-2.1 pykwalify-1.6.0 python-crfsuite-0.9.6 python-telegram-bot-10.1.0 rasa-core-0.9.6 rasa-nlu-0.12.3 redis-2.10.6 ruamel.yaml-0.15.100 scikit-learn-0.19.2 simplejson-3.16.0 sklearn-crfsuite-0.3.6 slackclient-1.3.2 tensorboard-1.8.0 tensorflow-1.8.0 twilio-6.31.1 typing-3.7.4.1 websocket-client-0.54.0 zope.interface-4.6.0\n",
            "Collecting MySQL-python\n",
            "\u001b[?25l  Downloading https://files.pythonhosted.org/packages/a5/e9/51b544da85a36a68debe7a7091f068d802fc515a3a202652828c73453cad/MySQL-python-1.2.5.zip (108kB)\n",
            "\u001b[K     |████████████████████████████████| 112kB 3.5MB/s \n",
            "\u001b[31mERROR: Command errored out with exit status 1: python setup.py egg_info Check the logs for full command output.\u001b[0m\n",
            "\u001b[?25hCollecting MySQL-python-connector\n",
            "\u001b[31m  ERROR: Could not find a version that satisfies the requirement MySQL-python-connector (from versions: none)\u001b[0m\n",
            "\u001b[31mERROR: No matching distribution found for MySQL-python-connector\u001b[0m\n",
            "Collecting en_core_web_md==2.1.0 from https://github.com/explosion/spacy-models/releases/download/en_core_web_md-2.1.0/en_core_web_md-2.1.0.tar.gz#egg=en_core_web_md==2.1.0\n",
            "\u001b[?25l  Downloading https://github.com/explosion/spacy-models/releases/download/en_core_web_md-2.1.0/en_core_web_md-2.1.0.tar.gz (95.4MB)\n",
            "\u001b[K     |████████████████████████████████| 95.4MB 8.9MB/s \n",
            "\u001b[?25hBuilding wheels for collected packages: en-core-web-md\n",
            "  Building wheel for en-core-web-md (setup.py) ... \u001b[?25l\u001b[?25hdone\n",
            "  Created wheel for en-core-web-md: filename=en_core_web_md-2.1.0-cp36-none-any.whl size=97126237 sha256=ccbcb7c786ae0f060e968aa6648c3bd27e678fa74424f02c7a2b384662c320b1\n",
            "  Stored in directory: /tmp/pip-ephem-wheel-cache-9vbfhcxg/wheels/c1/2c/5f/fd7f3ec336bf97b0809c86264d2831c5dfb00fc2e239d1bb01\n",
            "Successfully built en-core-web-md\n",
            "Installing collected packages: en-core-web-md\n",
            "Successfully installed en-core-web-md-2.1.0\n",
            "\u001b[38;5;2m✔ Download and installation successful\u001b[0m\n",
            "You can now load the model via spacy.load('en_core_web_md')\n",
            "\u001b[38;5;2m✔ Linking successful\u001b[0m\n",
            "/usr/local/lib/python3.6/dist-packages/en_core_web_md -->\n",
            "/usr/local/lib/python3.6/dist-packages/spacy/data/en\n",
            "You can now load the model via spacy.load('en')\n",
            "Collecting mysql-connector-python\n",
            "\u001b[?25l  Downloading https://files.pythonhosted.org/packages/58/ac/a3e86e5df84b818f69ebb8c89f282efe6a15d3ad63a769314cdd00bccbbb/mysql_connector_python-8.0.17-cp36-cp36m-manylinux1_x86_64.whl (13.1MB)\n",
            "\u001b[K     |████████████████████████████████| 13.1MB 3.5MB/s \n",
            "\u001b[?25hRequirement already satisfied: protobuf>=3.0.0 in /usr/local/lib/python3.6/dist-packages (from mysql-connector-python) (3.7.1)\n",
            "Requirement already satisfied: six>=1.9 in /usr/local/lib/python3.6/dist-packages (from protobuf>=3.0.0->mysql-connector-python) (1.12.0)\n",
            "Requirement already satisfied: setuptools in /usr/local/lib/python3.6/dist-packages (from protobuf>=3.0.0->mysql-connector-python) (41.2.0)\n",
            "Installing collected packages: mysql-connector-python\n",
            "Successfully installed mysql-connector-python-8.0.17\n"
          ],
          "name": "stdout"
        }
      ]
    },
    {
      "cell_type": "code",
      "metadata": {
        "id": "THVc5-WTYmxz",
        "colab_type": "code",
        "colab": {
          "base_uri": "https://localhost:8080/",
          "height": 70
        },
        "outputId": "a92a9db3-c726-4ba2-c26b-2e3fd218c8f4"
      },
      "source": [
        "import rasa_nlu\n",
        "import rasa_core\n",
        "import spacy\n",
        "\n",
        "print(\"rasa_nlu: {} rasa_core: {}\".format(rasa_nlu.__version__, rasa_core.__version__))\n",
        "print(\"Loading spaCy language model...\")\n",
        "print(spacy.load(\"en\")(\"Hello world!\"))"
      ],
      "execution_count": 3,
      "outputs": [
        {
          "output_type": "stream",
          "text": [
            "rasa_nlu: 0.12.3 rasa_core: 0.9.6\n",
            "Loading spaCy language model...\n",
            "Hello world!\n"
          ],
          "name": "stdout"
        }
      ]
    },
    {
      "cell_type": "markdown",
      "metadata": {
        "id": "uq7d6NjGpHA_",
        "colab_type": "text"
      },
      "source": [
        "####Install some graph packages. You can jump this step if you have already installed it on your PC."
      ]
    },
    {
      "cell_type": "code",
      "metadata": {
        "id": "Eo_qeLyEY5Bp",
        "colab_type": "code",
        "outputId": "e36b48a3-e5d1-40e4-9381-192efcefc493",
        "colab": {
          "base_uri": "https://localhost:8080/",
          "height": 872
        }
      },
      "source": [
        "!apt-get -qq install -y graphviz libgraphviz-dev pkg-config;\n",
        "!breq install graphviz\n",
        "!{python} -m pip install pygraphviz;"
      ],
      "execution_count": 4,
      "outputs": [
        {
          "output_type": "stream",
          "text": [
            "Selecting previously unselected package libgtk2.0-common.\n",
            "(Reading database ... 131183 files and directories currently installed.)\n",
            "Preparing to unpack .../0-libgtk2.0-common_2.24.32-1ubuntu1_all.deb ...\n",
            "Unpacking libgtk2.0-common (2.24.32-1ubuntu1) ...\n",
            "Selecting previously unselected package libgtk2.0-0:amd64.\n",
            "Preparing to unpack .../1-libgtk2.0-0_2.24.32-1ubuntu1_amd64.deb ...\n",
            "Unpacking libgtk2.0-0:amd64 (2.24.32-1ubuntu1) ...\n",
            "Selecting previously unselected package libgail18:amd64.\n",
            "Preparing to unpack .../2-libgail18_2.24.32-1ubuntu1_amd64.deb ...\n",
            "Unpacking libgail18:amd64 (2.24.32-1ubuntu1) ...\n",
            "Selecting previously unselected package libgail-common:amd64.\n",
            "Preparing to unpack .../3-libgail-common_2.24.32-1ubuntu1_amd64.deb ...\n",
            "Unpacking libgail-common:amd64 (2.24.32-1ubuntu1) ...\n",
            "Selecting previously unselected package libxdot4.\n",
            "Preparing to unpack .../4-libxdot4_2.40.1-2_amd64.deb ...\n",
            "Unpacking libxdot4 (2.40.1-2) ...\n",
            "Selecting previously unselected package libgvc6-plugins-gtk.\n",
            "Preparing to unpack .../5-libgvc6-plugins-gtk_2.40.1-2_amd64.deb ...\n",
            "Unpacking libgvc6-plugins-gtk (2.40.1-2) ...\n",
            "Selecting previously unselected package libgraphviz-dev.\n",
            "Preparing to unpack .../6-libgraphviz-dev_2.40.1-2_amd64.deb ...\n",
            "Unpacking libgraphviz-dev (2.40.1-2) ...\n",
            "Selecting previously unselected package libgtk2.0-bin.\n",
            "Preparing to unpack .../7-libgtk2.0-bin_2.24.32-1ubuntu1_amd64.deb ...\n",
            "Unpacking libgtk2.0-bin (2.24.32-1ubuntu1) ...\n",
            "Setting up libgtk2.0-common (2.24.32-1ubuntu1) ...\n",
            "Setting up libxdot4 (2.40.1-2) ...\n",
            "Processing triggers for libc-bin (2.27-3ubuntu1) ...\n",
            "Processing triggers for man-db (2.8.3-2ubuntu0.1) ...\n",
            "Setting up libgtk2.0-0:amd64 (2.24.32-1ubuntu1) ...\n",
            "Setting up libgail18:amd64 (2.24.32-1ubuntu1) ...\n",
            "Setting up libgail-common:amd64 (2.24.32-1ubuntu1) ...\n",
            "Setting up libgvc6-plugins-gtk (2.40.1-2) ...\n",
            "Setting up libgraphviz-dev (2.40.1-2) ...\n",
            "Setting up libgtk2.0-bin (2.24.32-1ubuntu1) ...\n",
            "Processing triggers for libc-bin (2.27-3ubuntu1) ...\n",
            "/bin/bash: breq: command not found\n",
            "Collecting pygraphviz\n",
            "\u001b[?25l  Downloading https://files.pythonhosted.org/packages/7e/b1/d6d849ddaf6f11036f9980d433f383d4c13d1ebcfc3cd09bc845bda7e433/pygraphviz-1.5.zip (117kB)\n",
            "\u001b[K     |████████████████████████████████| 122kB 3.5MB/s \n",
            "\u001b[?25hBuilding wheels for collected packages: pygraphviz\n",
            "  Building wheel for pygraphviz (setup.py) ... \u001b[?25l\u001b[?25hdone\n",
            "  Created wheel for pygraphviz: filename=pygraphviz-1.5-cp36-cp36m-linux_x86_64.whl size=157571 sha256=fb56404a39eca0c02f47a5488ef19e85907e3d66f6241c1c880f95248b79aafa\n",
            "  Stored in directory: /root/.cache/pip/wheels/65/54/69/1aee9e66ab19916293208d4c9de0d3898adebe6b2eeff6476b\n",
            "Successfully built pygraphviz\n",
            "Installing collected packages: pygraphviz\n",
            "Successfully installed pygraphviz-1.5\n"
          ],
          "name": "stdout"
        }
      ]
    },
    {
      "cell_type": "markdown",
      "metadata": {
        "id": "M9BNhiJzI8Ru",
        "colab_type": "text"
      },
      "source": [
        "## Part 1: Natural Language Understanding\n",
        "\n",
        "Here some examples of the conversation with sentences from the user and exploited to build Rasa NLU model.  "
      ]
    },
    {
      "cell_type": "markdown",
      "metadata": {
        "id": "9lS-XnfJJYGF",
        "colab_type": "text"
      },
      "source": [
        "### Creating the training data for language understanding model\n",
        "\n",
        "In this step is originated a train set grouping user inputs into intents and highlighting key word by entities with its synonyms (entity values).  "
      ]
    },
    {
      "cell_type": "code",
      "metadata": {
        "id": "PBvC19srZEOW",
        "colab_type": "code",
        "outputId": "15683c88-22e8-4198-a20d-bafc912a4b03",
        "colab": {
          "base_uri": "https://localhost:8080/",
          "height": 34
        }
      },
      "source": [
        "nlu_md = \"\"\"\n",
        "## intent:greet\n",
        "- hey\n",
        "- hello there\n",
        "- hi\n",
        "- hello\n",
        "- good morning\n",
        "- good evening\n",
        "- hey there\n",
        "- let's go\n",
        "- hey dude\n",
        "- goodmorning\n",
        "- goodevening\n",
        "- good afternoon\n",
        "- start\n",
        "## intent:affirm\n",
        "- great\n",
        "- OK\n",
        "- okay\n",
        "- thank you\n",
        "- thanks\n",
        "- yes, thanks\n",
        "- cheers\n",
        "- thanks a lot\n",
        "- thank you very much\n",
        "\n",
        "## intent: health_about\n",
        "- Please tell me about [health department](HealthInsurance),\n",
        "- Please tell me the [health insurance](HealthInsurance) Plans for family\n",
        "- What is [health insurance](HealthInsurance)\n",
        "- For how many year's [health insurance](HealthInsurance) is covered\n",
        "- Please tell me about [abc health insurance](HealthInsurance)\n",
        "- Please tell me the [abc health insurance](HealthInsurance) Plans for family\n",
        "- What is [abc health insurance](HealthInsurance)\n",
        "- For how many year's [abc health insurance](HealthInsurance) is covered\n",
        "- How to renew my [health insurance](HealthInsurance)\n",
        "- What is [health insurance](HealthInsurance)\n",
        "- I would like to know more about [health insurance](HealthInsurance)\n",
        "- Please tell something about [health insurance](HealthInsurance)\n",
        "- What is meant by [health insurance](HealthInsurance)\n",
        "- Explain about [health insurance](HealthInsurance)\n",
        "- Give me the details of [health insurance](HealthInsurance)\n",
        "- Tell me about [health insurance](HealthInsurance)\n",
        "- Please tell about [health insurance](HealthInsurance)\n",
        "- How to renew my [abc health insurance](HealthInsurance)\n",
        "- What is [abc health insurance](HealthInsurance)\n",
        "- I would like to know more about [abc health insurance](HealthInsurance)\n",
        "- Please tell something about [abc health insurance](HealthInsurance)\n",
        "- What is meant by [abc health insurance](HealthInsurance)\n",
        "- Explain about [abc health insurance](HealthInsurance)\n",
        "- Give me the details of [abc health insurance](HealthInsurance)\n",
        "- Tell me about [abc health insurance](HealthInsurance)\n",
        "- Please tell about [abc health insurance](HealthInsurance)\n",
        "\n",
        "## intent: vehicle_about\n",
        "- How to renew my [abc vehicle insurance](VehicleInsurance)\n",
        "- What is [abc vehicle insurance](VehicleInsurance)\n",
        "- I would like to know more about [abc vehicle insurance](VehicleInsurance)\n",
        "- Please tell something about [abc vehicle insurance](VehicleInsurance)\n",
        "- What is meant by [abc vehicle insurance](VehicleInsurance)\n",
        "- Explain about [abc vehicle insurance](VehicleInsurance)\n",
        "- Give me the details of [abc vehicle insurance](VehicleInsurance)\n",
        "- Tell me about [abc vehicle insurance](VehicleInsurance)\n",
        "- Please tell about [abc vehicle insurance](VehicleInsurance)\n",
        "- How to renew my [vehicle insurance](VehicleInsurance)\n",
        "- What is [vehicle insurance](VehicleInsurance)\n",
        "- I would like to know more about [vehicle insurance](VehicleInsurance)\n",
        "- Please tell something about [vehicle insurance](VehicleInsurance)\n",
        "- What is meant by [vehicle insurance](VehicleInsurance)\n",
        "- Explain about [vehicle insurance](VehicleInsurance)\n",
        "- Give me the details of [vehicle insurance](VehicleInsurance)\n",
        "- Tell me about [vehicle insurance](VehicleInsurance)\n",
        "- Please tell about [vehicle insurance](VehicleInsurance)\n",
        "\n",
        "\n",
        "## intent: vehicle_benefits\n",
        "- What are the [vehicle insurance](VehicleInsurance) [benefits](Benefits)?\n",
        "- Are there any [vehicle insurance](VehicleInsurance) benefits?\n",
        "- Tell me about the [benefits](Benefits) of  [vehicle insurance](VehicleInsurance)?\n",
        "- What do you know about [vehicle insurance](VehicleInsurance) [benefits](Benefits)?\n",
        "- What are the [benefits](Benefits) of taking ABC [vehicle insurance](VehicleInsurance)?\n",
        "- What are the [benefits](Benefits) over other [vehicle insurance](VehicleInsurance) companies?\n",
        "- What are the [abc vehicle insurance](VehicleInsurance) [benefits](Benefits)?\n",
        "- Are there any [abc vehicle insurance](VehicleInsurance) [benefits](Benefits)?\n",
        "- Tell me about the benifits of  [abc vehicle insurance](VehicleInsurance)?\n",
        "- What do you know about [abc vehicle insurance](VehicleInsurance) [benefits](Benefits)?\n",
        "- What are the [benefits](Benefits) of taking ABC [abc vehicle insurance](VehicleInsurance)?\n",
        "- What are the [benefits](Benefits) over other [abc vehicle insurance](VehicleInsurance) companies?\n",
        "- What are the [vehicle insurance](VehicleInsurance) [tax benefits](Benefits)?\n",
        "- Are there any [vehicle insurance](VehicleInsurance) tax benefits?\n",
        "- Tell me about the [tax benefits](Benefits) of  [vehicle insurance](VehicleInsurance)?\n",
        "- What do you know about [vehicle insurance](VehicleInsurance) [tax benefits](Benefits)?\n",
        "- What are the [tax benefits](Benefits) of taking ABC [vehicle insurance](VehicleInsurance)?\n",
        "- What are the [tax benefits](Benefits) over other [vehicle insurance](VehicleInsurance) companies?\n",
        "- What are the [abc vehicle insurance](VehicleInsurance) [tax benefits](Benefits)?\n",
        "- Are there any [abc vehicle insurance](VehicleInsurance) [tax benefits](Benefits)?\n",
        "- Tell me about the benifits of  [abc vehicle insurance](VehicleInsurance)?\n",
        "- What do you know about [abc vehicle insurance](VehicleInsurance) [tax benefits](Benefits)?\n",
        "- What are the [tax benefits](Benefits) of taking ABC [abc vehicle insurance](VehicleInsurance)?\n",
        "- What are the [tax benefits](Benefits) over other [abc vehicle insurance](VehicleInsurance) companies?\n",
        "- What are the [vehicle insurance](VehicleInsurance) [regular benefits benefits](Benefits)?\n",
        "- Are there any [vehicle insurance](VehicleInsurance) regular benefits benefits?\n",
        "- Tell me about the [regular benefits benefits](Benefits) of  [vehicle insurance](VehicleInsurance)?\n",
        "- What do you know about [vehicle insurance](VehicleInsurance) [regular benefits benefits](Benefits)?\n",
        "- What are the [regular benefits benefits](Benefits) of taking ABC [vehicle insurance](VehicleInsurance)?\n",
        "- What are the [regular benefits benefits](Benefits) over other [vehicle insurance](VehicleInsurance) companies?\n",
        "- What are the [abc vehicle insurance](VehicleInsurance) [regular benefits benefits](Benefits)?\n",
        "- Are there any [abc vehicle insurance](VehicleInsurance) [regular benefits benefits](Benefits)?\n",
        "- Tell me about the benifits of  [abc vehicle insurance](VehicleInsurance)?\n",
        "- What do you know about [abc vehicle insurance](VehicleInsurance) [regular benefits benefits](Benefits)?\n",
        "- What are the [regular benefits benefits](Benefits) of taking ABC [abc vehicle insurance](VehicleInsurance)?\n",
        "- What are the [regular benefits benefits](Benefits) over other [abc vehicle insurance](VehicleInsurance) companies?\n",
        "\n",
        "\n",
        "\n",
        "## intent: health_benefits\n",
        "- What are the [health insurance](HealthInsurance) [benefits](Benefits)?\n",
        "- Are there any [health insurance](HealthInsurance) [benefits](Benefits)?\n",
        "- Tell me about the [benefits](Benefits) of  [health insurance](HealthInsurance)?\n",
        "- What do you know about [health insurance](HealthInsurance) [benefits](Benefits)?\n",
        "- What are the [benefits](Benefits) of taking ABC [health insurance](HealthInsurance)?\n",
        "- What are the [benefits](Benefits) over other [health insurance](HealthInsurance) companies?\n",
        "- What are the [abc health insurance](HealthInsurance) [benefits](Benefits)?\n",
        "- Are there any [abc health insurance](HealthInsurance) [benefits](Benefits)?\n",
        "- Tell me about the [benefits](Benefits) of  [abc health insurance](HealthInsurance)?\n",
        "- What do you know about [abc health insurance](HealthInsurance) [benefits](Benefits)?\n",
        "- What are the [benefits](Benefits) of taking ABC [abc health insurance](HealthInsurance)?\n",
        "- What are the [benefits](Benefits) over other [abc health insurance](HealthInsurance) companies?\n",
        "- What are the [health insurance](HealthInsurance) [regular benefits](Benefits)?\n",
        "- Are there any [health insurance](HealthInsurance) [regular benefits](Benefits)?\n",
        "- Tell me about the [regular benefits](Benefits) of  [health insurance](HealthInsurance)?\n",
        "- What do you know about [health insurance](HealthInsurance) [regular benefits](Benefits)?\n",
        "- What are the [regular benefits](Benefits) of taking ABC [health insurance](HealthInsurance)?\n",
        "- What are the [regular benefits](Benefits) over other [health insurance](HealthInsurance) companies?\n",
        "- What are the [abc health insurance](HealthInsurance) [regular benefits](Benefits)?\n",
        "- Are there any [abc health insurance](HealthInsurance) [regular benefits](Benefits)?\n",
        "- Tell me about the [regular benefits](Benefits) of  [abc health insurance](HealthInsurance)?\n",
        "- What do you know about [abc health insurance](HealthInsurance) [regular benefits](Benefits)?\n",
        "- What are the [regular benefits](Benefits) of taking ABC [abc health insurance](HealthInsurance)?\n",
        "- What are the [regular benefits](Benefits) over other [abc health insurance](HealthInsurance) companies?\n",
        "- What are the [health insurance](HealthInsurance) [complementary benefits](Benefits)?\n",
        "- Are there any [health insurance](HealthInsurance) [complementary benefits](Benefits)?\n",
        "- Tell me about the [complementary benefits](Benefits) of  [health insurance](HealthInsurance)?\n",
        "- What do you know about [health insurance](HealthInsurance) [complementary benefits](Benefits)?\n",
        "- What are the [complementary benefits](Benefits) of taking ABC [health insurance](HealthInsurance)?\n",
        "- What are the [complementary benefits](Benefits) over other [health insurance](HealthInsurance) companies?\n",
        "- What are the [abc health insurance](HealthInsurance) [complementary benefits](Benefits)?\n",
        "- Are there any [abc health insurance](HealthInsurance) [complementary benefits](Benefits)?\n",
        "- Tell me about the [complementary benefits](Benefits) of  [abc health insurance](HealthInsurance)?\n",
        "- What do you know about [abc health insurance](HealthInsurance) [complementary benefits](Benefits)?\n",
        "- What are the [complementary benefits](Benefits) of taking ABC [abc health insurance](HealthInsurance)?\n",
        "- What are the [complementary benefits](Benefits) over other [abc health insurance](HealthInsurance) companies?\n",
        "\n",
        "\n",
        "## intent: health_timeperiod\n",
        "- What is the [validity](TimePeriod) of [abc health insurance](HealthInsurance)?\n",
        "- What is the [duration](TimePeriod) of [abc health insurance](HealthInsurance)?\n",
        "- How [long](TimePeriod)  is the [abc health insurance](HealthInsurance) valid?\n",
        "- What is the [validity](TimePeriod) of [health insurance](HealthInsurance)?\n",
        "- What is the [duration](TimePeriod) of [health insurance](HealthInsurance)?\n",
        "- How [long](TimePeriod)  is the [health insurance](HealthInsurance) valid?\n",
        "- What is the [validity](TimePeriod) of [health insurance](HealthInsurance)?\n",
        "- What is the [duration](TimePeriod) of [health insurance](HealthInsurance)?\n",
        "- How [long](TimePeriod)  is the [health insurance](HealthInsurance) valid?\n",
        "- What is the [validity](TimePeriod) of [abc health insurance](HealthInsurance)?\n",
        "- What is the [duration](TimePeriod) of [abc health insurance](HealthInsurance)?\n",
        "- How [long](TimePeriod)  is the [abc health insurance](HealthInsurance) valid?\n",
        "\n",
        "\n",
        "## intent: vehicle_timeperiod\n",
        "- What is the [validity](TimePeriod) of [vehicle insurance](VehicleInsurance)?\n",
        "- What is the [duration](TimePeriod) of [vehicle insurance](VehicleInsurance)?\n",
        "- How [long](TimePeriod)  is the [vehicle insurance](VehicleInsurance) valid?\n",
        "- What is the [validity](TimePeriod) of [abc vehicle insurance](VehicleInsurance)?\n",
        "- What is the [duration](TimePeriod) of [abc vehicle insurance](VehicleInsurance)?\n",
        "- How [long](TimePeriod)  is the [abc vehicle insurance](VehicleInsurance) valid?\n",
        "\n",
        "\n",
        "\n",
        "\n",
        "\"\"\"\n",
        "\n",
        "%store nlu_md > nlu.md"
      ],
      "execution_count": 5,
      "outputs": [
        {
          "output_type": "stream",
          "text": [
            "Writing 'nlu_md' (str) to file 'nlu.md'.\n"
          ],
          "name": "stdout"
        }
      ]
    },
    {
      "cell_type": "markdown",
      "metadata": {
        "id": "ZJYk94gKNUpK",
        "colab_type": "text"
      },
      "source": [
        "### Defining the NLU model\n",
        "\n",
        "With the training dataset is possible to build the NLU model by a pipeline which defines how structured data is extracted from unstructured user inputs. "
      ]
    },
    {
      "cell_type": "code",
      "metadata": {
        "id": "R2k0cxSsZRIN",
        "colab_type": "code",
        "outputId": "70f2f3cd-9243-4b9f-cb0f-b057de93d050",
        "colab": {
          "base_uri": "https://localhost:8080/",
          "height": 34
        }
      },
      "source": [
        "config = \"\"\"\n",
        "language: \"en\"\n",
        "policies:\n",
        "  - name: \"KerasPolicy\"\n",
        "    featurizer:\n",
        "    - name: MaxHistoryTrackerFeaturizer\n",
        "      max_history: 5\n",
        "      state_featurizer:\n",
        "        - name: BinarySingleStateFeaturizer\n",
        "  - name: \"MemoizationPolicy\"\n",
        "    max_history: 5\n",
        "pipeline:\n",
        "- name: \"nlp_spacy\"                   # loads the spacy language model\n",
        "- name: \"tokenizer_spacy\"             # splits the sentence into tokens\n",
        "- name: \"ner_crf\"                     # uses the pretrained spacy NER model\n",
        "- name: \"intent_featurizer_spacy\"     # transform the sentence into a vector representation\n",
        "- name: \"intent_classifier_sklearn\"   # uses the vector representation to classify using SVM\n",
        "- name: \"ner_synonyms\"                # trains the synonyms\n",
        "\n",
        "\n",
        "\"\"\" \n",
        "\n",
        "%store config > config.yml"
      ],
      "execution_count": 26,
      "outputs": [
        {
          "output_type": "stream",
          "text": [
            "Writing 'config' (str) to file 'config.yml'.\n"
          ],
          "name": "stdout"
        }
      ]
    },
    {
      "cell_type": "markdown",
      "metadata": {
        "id": "Nke04hJqNeEn",
        "colab_type": "text"
      },
      "source": [
        "### Training the Rasa NLU Model\n",
        "\n",
        "Let's start training the dataset with user inputs."
      ]
    },
    {
      "cell_type": "code",
      "metadata": {
        "id": "dtpm0AqRZZAk",
        "colab_type": "code",
        "outputId": "2dd292dd-242d-441e-a941-3b19e437fb85",
        "colab": {
          "base_uri": "https://localhost:8080/",
          "height": 463
        }
      },
      "source": [
        "from rasa_nlu.training_data import load_data\n",
        "from rasa_nlu.config import RasaNLUModelConfig\n",
        "from rasa_nlu.model import Trainer\n",
        "from rasa_nlu import config\n",
        "\n",
        "# loading the nlu training samples\n",
        "training_data = load_data(\"nlu.md\")\n",
        "\n",
        "# trainer to educate our pipeline\n",
        "trainer = Trainer(config.load(\"config.yml\"))\n",
        "\n",
        "# train the model!\n",
        "interpreter = trainer.train(training_data)\n",
        "\n",
        "# store it for future use\n",
        "model_directory = trainer.persist(\"./models/nlu\", fixed_model_name=\"current\")"
      ],
      "execution_count": 27,
      "outputs": [
        {
          "output_type": "stream",
          "text": [
            "INFO:rasa_nlu.training_data.loading:Training data format of nlu.md is md\n",
            "INFO:rasa_nlu.training_data.training_data:Training data stats: \n",
            "\t- intent examples: 156 (8 distinct intents)\n",
            "\t- Found intents: 'vehicle_timeperiod', 'health_about', 'affirm', 'health_benefits', 'greet', 'health_timeperiod', 'vehicle_about', 'vehicle_benefits'\n",
            "\t- entity examples: 134 (4 distinct entities)\n",
            "\t- found entities: 'HealthInsurance', 'TimePeriod', 'Benefits', 'VehicleInsurance'\n",
            "\n",
            "INFO:rasa_nlu.utils.spacy_utils:Trying to load spacy model with name 'en'\n",
            "INFO:rasa_nlu.components:Added 'nlp_spacy' to component cache. Key 'nlp_spacy-en'.\n",
            "INFO:rasa_nlu.model:Starting to train component nlp_spacy\n",
            "INFO:rasa_nlu.model:Finished training component.\n",
            "INFO:rasa_nlu.model:Starting to train component tokenizer_spacy\n",
            "INFO:rasa_nlu.model:Finished training component.\n",
            "INFO:rasa_nlu.model:Starting to train component ner_crf\n",
            "INFO:rasa_nlu.model:Finished training component.\n",
            "INFO:rasa_nlu.model:Starting to train component intent_featurizer_spacy\n",
            "INFO:rasa_nlu.model:Finished training component.\n",
            "INFO:rasa_nlu.model:Starting to train component intent_classifier_sklearn\n"
          ],
          "name": "stderr"
        },
        {
          "output_type": "stream",
          "text": [
            "Fitting 2 folds for each of 6 candidates, totalling 12 fits\n"
          ],
          "name": "stdout"
        },
        {
          "output_type": "stream",
          "text": [
            "[Parallel(n_jobs=1)]: Done  12 out of  12 | elapsed:    0.2s finished\n",
            "INFO:rasa_nlu.model:Finished training component.\n",
            "INFO:rasa_nlu.model:Starting to train component ner_synonyms\n",
            "INFO:rasa_nlu.model:Finished training component.\n",
            "INFO:rasa_nlu.model:Successfully saved model into '/content/models/nlu/default/current'\n"
          ],
          "name": "stderr"
        }
      ]
    },
    {
      "cell_type": "markdown",
      "metadata": {
        "id": "2IUhxdk6Nl3y",
        "colab_type": "text"
      },
      "source": [
        "### Using & evaluating the NLU model\n",
        "\n",
        "Have a look on how the model is performing on a sentence:"
      ]
    },
    {
      "cell_type": "code",
      "metadata": {
        "id": "bp18CP-kZgZP",
        "colab_type": "code",
        "outputId": "5db93ab1-6c86-4092-9e28-1adc2da153d3",
        "colab": {
          "base_uri": "https://localhost:8080/",
          "height": 763
        }
      },
      "source": [
        "pprint(interpreter.parse(\"What is coverage\"))"
      ],
      "execution_count": 8,
      "outputs": [
        {
          "output_type": "stream",
          "text": [
            "{\n",
            "  \"intent\": {\n",
            "    \"name\": \"health_timeperiod\",\n",
            "    \"confidence\": 0.28978173710187793\n",
            "  },\n",
            "  \"entities\": [],\n",
            "  \"intent_ranking\": [\n",
            "    {\n",
            "      \"name\": \"health_timeperiod\",\n",
            "      \"confidence\": 0.28978173710187793\n",
            "    },\n",
            "    {\n",
            "      \"name\": \"health_about\",\n",
            "      \"confidence\": 0.2890877912101407\n",
            "    },\n",
            "    {\n",
            "      \"name\": \"vehicle_timeperiod\",\n",
            "      \"confidence\": 0.1162166588705913\n",
            "    },\n",
            "    {\n",
            "      \"name\": \"vehicle_benefits\",\n",
            "      \"confidence\": 0.0857171963721443\n",
            "    },\n",
            "    {\n",
            "      \"name\": \"health_benefits\",\n",
            "      \"confidence\": 0.0770493010877963\n",
            "    },\n",
            "    {\n",
            "      \"name\": \"vehicle_about\",\n",
            "      \"confidence\": 0.0704853721455275\n",
            "    },\n",
            "    {\n",
            "      \"name\": \"greet\",\n",
            "      \"confidence\": 0.04222567313421367\n",
            "    },\n",
            "    {\n",
            "      \"name\": \"affirm\",\n",
            "      \"confidence\": 0.029436270077708472\n",
            "    }\n",
            "  ],\n",
            "  \"text\": \"What is coverage\"\n",
            "}\n"
          ],
          "name": "stdout"
        }
      ]
    },
    {
      "cell_type": "markdown",
      "metadata": {
        "id": "t7jzLVZrNsZh",
        "colab_type": "text"
      },
      "source": [
        "Evaluation of a standalone model using all the dataset without a split train-test for semplicity. Upgraded version afford the split train-test option."
      ]
    },
    {
      "cell_type": "code",
      "metadata": {
        "id": "WuzpgO28ZtmS",
        "colab_type": "code",
        "outputId": "96b5ee6b-1bad-4062-d1aa-9e6449bb4f67",
        "colab": {
          "base_uri": "https://localhost:8080/",
          "height": 1000
        }
      },
      "source": [
        "from rasa_nlu.evaluate import run_evaluation\n",
        "\n",
        "run_evaluation(\"nlu.md\", model_directory)\n"
      ],
      "execution_count": 28,
      "outputs": [
        {
          "output_type": "stream",
          "text": [
            "INFO:rasa_nlu.components:Added 'nlp_spacy' to component cache. Key 'nlp_spacy-en'.\n",
            "INFO:rasa_nlu.training_data.loading:Training data format of nlu.md is md\n",
            "INFO:rasa_nlu.training_data.training_data:Training data stats: \n",
            "\t- intent examples: 156 (8 distinct intents)\n",
            "\t- Found intents: 'vehicle_timeperiod', 'health_about', 'affirm', 'health_benefits', 'greet', 'health_timeperiod', 'vehicle_about', 'vehicle_benefits'\n",
            "\t- entity examples: 134 (4 distinct entities)\n",
            "\t- found entities: 'HealthInsurance', 'TimePeriod', 'Benefits', 'VehicleInsurance'\n",
            "\n",
            "INFO:rasa_nlu.evaluate:Intent evaluation results:\n",
            "INFO:rasa_nlu.evaluate:Intent Evaluation: Only considering those 156 examples that have a defined intent out of 156 examples\n",
            "INFO:rasa_nlu.evaluate:F1-Score:  1.0\n",
            "INFO:rasa_nlu.evaluate:Precision: 1.0\n",
            "INFO:rasa_nlu.evaluate:Accuracy:  1.0\n",
            "INFO:rasa_nlu.evaluate:Classification report: \n",
            "                    precision    recall  f1-score   support\n",
            "\n",
            "            affirm       1.00      1.00      1.00         9\n",
            "             greet       1.00      1.00      1.00        13\n",
            "      health_about       1.00      1.00      1.00        26\n",
            "   health_benefits       1.00      1.00      1.00        36\n",
            " health_timeperiod       1.00      1.00      1.00        12\n",
            "     vehicle_about       1.00      1.00      1.00        18\n",
            "  vehicle_benefits       1.00      1.00      1.00        36\n",
            "vehicle_timeperiod       1.00      1.00      1.00         6\n",
            "\n",
            "       avg / total       1.00      1.00      1.00       156\n",
            "\n",
            "INFO:rasa_nlu.evaluate:Confusion matrix, without normalization: \n",
            "[[ 9  0  0  0  0  0  0  0]\n",
            " [ 0 13  0  0  0  0  0  0]\n",
            " [ 0  0 26  0  0  0  0  0]\n",
            " [ 0  0  0 36  0  0  0  0]\n",
            " [ 0  0  0  0 12  0  0  0]\n",
            " [ 0  0  0  0  0 18  0  0]\n",
            " [ 0  0  0  0  0  0 36  0]\n",
            " [ 0  0  0  0  0  0  0  6]]\n"
          ],
          "name": "stderr"
        },
        {
          "output_type": "display_data",
          "data": {
            "image/png": "[encoded data removed]",
            "text/plain": [
              "<Figure size 432x288 with 2 Axes>"
            ]
          },
          "metadata": {
            "tags": []
          }
        },
        {
          "output_type": "stream",
          "text": [
            "INFO:rasa_nlu.evaluate:Entity evaluation results:\n",
            "INFO:rasa_nlu.evaluate:Evaluation for entity extractor: ner_crf \n",
            "INFO:rasa_nlu.evaluate:F1-Score:  0.9951038409421098\n",
            "INFO:rasa_nlu.evaluate:Precision: 0.9952891296667059\n",
            "INFO:rasa_nlu.evaluate:Accuracy:  0.9950535861500412\n",
            "INFO:rasa_nlu.evaluate:Classification report: \n",
            "                  precision    recall  f1-score   support\n",
            "\n",
            "        Benefits       0.95      1.00      0.98       120\n",
            " HealthInsurance       1.00      1.00      1.00       185\n",
            "      TimePeriod       1.00      1.00      1.00        18\n",
            "VehicleInsurance       1.00      1.00      1.00       150\n",
            "       no_entity       1.00      0.99      1.00       740\n",
            "\n",
            "     avg / total       1.00      1.00      1.00      1213\n",
            "\n"
          ],
          "name": "stderr"
        }
      ]
    },
    {
      "cell_type": "markdown",
      "metadata": {
        "id": "x8n4CPU9OkVE",
        "colab_type": "text"
      },
      "source": [
        "# Part 2: Handling the dialogue\n",
        "\n",
        "In this part at the chatbot is taught how to make responses by training a dialogue management model with Rasa Core.\n",
        "\n",
        "### Writing Stories\n",
        "\n",
        "The dataset used for dialogue management models are represented by 'stories': actual conversations. User inputs expressed by intents, entities and value entities, start with '*'. Chatbot responses expressed as actions, start with '-'. "
      ]
    },
    {
      "cell_type": "code",
      "metadata": {
        "id": "NZ8BkCJiZyVX",
        "colab_type": "code",
        "colab": {
          "base_uri": "https://localhost:8080/",
          "height": 34
        },
        "outputId": "3b737ddf-f2d0-4e6f-959e-7ab7627072f7"
      },
      "source": [
        "stories_md = \"\"\"\n",
        "\n",
        "## path 0              \n",
        "* greet\n",
        "  - utter_greet             \n",
        "* health_about{\"HealthInsurance\":\"health insurance\"}  \n",
        "  - utter_action_health_about\n",
        "* affirm  \n",
        "  - utter_affirm\n",
        "  \n",
        "## path 1             \n",
        "* greet\n",
        "  - utter_greet             \n",
        "* health_about{\"HealthInsurance\":\"abc health insurance\"}  \n",
        "  - utter_action_health_about\n",
        "* affirm  \n",
        "  - utter_affirm  \n",
        "  \n",
        "  \n",
        "## path 2           \n",
        "* greet\n",
        "  - utter_greet             \n",
        "* vehicle_about{\"VehicleInsurance\":\"vehicle insurance\"}  \n",
        "  - utter_action_vehicle_about\n",
        "* affirm  \n",
        "  - utter_affirm\n",
        "  \n",
        "## path 3           \n",
        "* greet\n",
        "  - utter_greet             \n",
        "* vehicle_benefits{\"VehicleInsurance\":\"vehicle insurance\",\"Benefits\":\"benefits\"}  \n",
        "  - utter_action_vehicle_benefits\n",
        "* affirm  \n",
        "  - utter_affirm  \n",
        "  \n",
        "## path 4           \n",
        "* greet\n",
        "  - utter_greet             \n",
        "* vehicle_benefits{\"VehicleInsurance\":\"vehicle insurance\",\"Benefits\":\"tax benefits\"}  \n",
        "  - utter_action_vehicle_benefits\n",
        "* affirm  \n",
        "  - utter_affirm    \n",
        "  \n",
        "  \n",
        "## path 5           \n",
        "* greet\n",
        "  - utter_greet             \n",
        "* vehicle_benefits{\"VehicleInsurance\":\"vehicle insurance\",\"Benefits\":\"regular benefits\"}  \n",
        "  - utter_action_vehicle_benefits\n",
        "* affirm  \n",
        "  - utter_affirm     \n",
        "  \n",
        "  \n",
        "## path 6         \n",
        "* greet\n",
        "  - utter_greet             \n",
        "* health_benefits{\"HealthInsurance\":\"health insurance\",\"Benefits\":\"benefits\"}  \n",
        "  - utter_action_health_benefits\n",
        "* affirm  \n",
        "  - utter_affirm  \n",
        "    \n",
        "## path 7        \n",
        "* greet\n",
        "  - utter_greet             \n",
        "* health_benefits{\"HealthInsurance\":\"health insurance\",\"Benefits\":\"regular benefits\"}  \n",
        "  - utter_action_health_benefits\n",
        "* affirm  \n",
        "  - utter_affirm \n",
        "  \n",
        "## path 8      \n",
        "* greet\n",
        "  - utter_greet             \n",
        "* health_benefits{\"HealthInsurance\":\"health insurance\",\"Benefits\":\"complementary benefits\"}  \n",
        "  - utter_action_health_benefits\n",
        "* affirm  \n",
        "  - utter_affirm  \n",
        "        \n",
        "    \n",
        "  \n",
        "## path 999       \n",
        "* greet\n",
        "  - utter_greet             \n",
        "* vehicle_about{\"VehicleInsurance\":\"abc vehicle insurance\"}  \n",
        "  - utter_action_vehicle_about\n",
        "* affirm  \n",
        "  - utter_affirm    \n",
        "  \n",
        "  \n",
        "\n",
        "* affirm\n",
        "  - utter_affirm         \n",
        "\"\"\"\n",
        "\n",
        "%store stories_md > stories.md"
      ],
      "execution_count": 29,
      "outputs": [
        {
          "output_type": "stream",
          "text": [
            "Writing 'stories_md' (str) to file 'stories.md'.\n"
          ],
          "name": "stdout"
        }
      ]
    },
    {
      "cell_type": "markdown",
      "metadata": {
        "id": "TfIt2KH8OxpF",
        "colab_type": "text"
      },
      "source": [
        "### Defining a Domain\n",
        "\n",
        "In the domain is specified the architecture of the dialogue with intents, entities, actions and also templates with answers used by the chatbot to respond to the user and slots which will help the chatbot to keep track of the context.\n",
        "\n",
        "Here some links used as references for the answers:\n",
        "\n",
        "https://en.wikipedia.org/wiki/List_of_emergency_telephone_numbers\n",
        "\n",
        "https://exchange.aaa.com/travel-planning/international-travel/international-clubs/#.XM2ruXUzaV4\n"
      ]
    },
    {
      "cell_type": "code",
      "metadata": {
        "id": "AHxZId1UaA3v",
        "colab_type": "code",
        "outputId": "cee1c95f-2472-4b41-c1c5-bd5701c04b02",
        "colab": {
          "base_uri": "https://localhost:8080/",
          "height": 34
        }
      },
      "source": [
        "domain_yml = \"\"\"\n",
        "intents:\n",
        "- greet\n",
        "- health_about\n",
        "- vehicle_about\n",
        "- vehicle_timeperiod\n",
        "- health_timeperiod\n",
        "- vehicle_benefits\n",
        "- health_benefits\n",
        "- affirm\n",
        "\n",
        "\n",
        "slots:\n",
        "  HealthInsurance:\n",
        "    type: categorical\n",
        "    values:\n",
        "        - health insurance\n",
        "        - abc health insurance\n",
        "  VehicleInsurance:\n",
        "    type: categorical\n",
        "    values:\n",
        "        - vehicle insurance\n",
        "        - abc vehicle insurance         \n",
        "  Benefits:\n",
        "    type: categorical\n",
        "    values:\n",
        "        - benefits\n",
        "        - tax benefits\n",
        "        - regular benefits\n",
        "        - complementary benefits\n",
        "  TimePeriod:\n",
        "    type: categorical\n",
        "    values:\n",
        "        - timeperiod\n",
        "        - duration\n",
        "        - long\n",
        "        - validity\n",
        "\n",
        "\n",
        "  \n",
        "entities:\n",
        "- HealthInsurance\n",
        "- VehicleInsurance\n",
        "- Benefits\n",
        "- TimePeriod\n",
        "\n",
        "\n",
        "actions:\n",
        "- utter_greet\n",
        "- utter_affirm\n",
        "- utter_action_health_about\n",
        "- utter_action_vehicle_about\n",
        "- utter_action_vehicle_benefits\n",
        "- utter_action_health_benefits\n",
        "- utter_action_vehicle_timeperiod\n",
        "- utter_action_health_timeperiod\n",
        "- action_default\n",
        "- __main__.ApiAction\n",
        "\n",
        "templates:\n",
        "  utter_greet:\n",
        "  - text: \"Hello, welcome to ABC Insurance Virtual Assistant. How can I assist you today?\"\n",
        "  utter_action_health_about:\n",
        "  - text: \"It is health insurance, which can be covered for all medical day-care treatments such as skin treatment and Lasik surgery. The policy covered for 5 yrs. The Free look period is 15 days, the grace period and waiting period is 30 days.\"\n",
        "  utter_action_vehicle_about:\n",
        "  - text: \"It is vehicle insurance, which can be covered for all own damage treatments such as fire, theft, accident. The policy covered for 5 yrs. The Free look period is 15 days, the grace period and waiting period is 30 days.\"\n",
        "  utter_action_vehicle_benefits:\n",
        "  - text: \"a. Renewal Benefits :rn i. Cumulative Bonus (Additional Sum Insured) - An Additional Sum Insured of 10% of Annual Sum Insured provided on each renewal for every claim-free year up to a maximum of 50%.rnii. Complimentary vehicle service Coupons: One coupon per individual policy and two coupons per Floater policy will be offered.rn b. Tax Benefits: Income tax exemption for 1 lakh rupees\"\n",
        "  utter_action_health_benefits:\n",
        "  - text: \"a. Renewal Benefits :rni. a) Cumulative Bonus (Addits\"\n",
        "  utter_action_vehicle_timeperiod:\n",
        "  - text: \"The policy covered for 5 yrs\"\n",
        "  utter_action_health_timeperiod:\n",
        "  - text: \"The policy covered for 5 yrs\"\n",
        "  action_default:\n",
        "  - text: \"Default\"\n",
        "  utter_affirm:\n",
        "  - text: \"You're welcome\"\n",
        "  \n",
        "\"\"\"\n",
        "\n",
        "%store domain_yml > domain.yml"
      ],
      "execution_count": 42,
      "outputs": [
        {
          "output_type": "stream",
          "text": [
            "Writing 'domain_yml' (str) to file 'domain.yml'.\n"
          ],
          "name": "stdout"
        }
      ]
    },
    {
      "cell_type": "markdown",
      "metadata": {
        "id": "tV-Fb-ruPKKj",
        "colab_type": "text"
      },
      "source": [
        "### Visualising the Training Data\n"
      ]
    },
    {
      "cell_type": "code",
      "metadata": {
        "id": "imTLqxmvaLNI",
        "colab_type": "code",
        "outputId": "2eecb8a1-fc7f-483c-8da3-48daa3b3b82b",
        "colab": {
          "base_uri": "https://localhost:8080/",
          "height": 461
        }
      },
      "source": [
        "#from IPython.display import Image\n",
        "from rasa_core.agent import Agent\n",
        "\n",
        "\n",
        "agent = Agent('domain.yml')\n",
        "agent.visualize(\"stories.md\", \"story_graph.png\", max_history=10)\n",
        "Image(filename=\"story_graph.png\")"
      ],
      "execution_count": 43,
      "outputs": [
        {
          "output_type": "error",
          "ename": "ValueError",
          "evalue": "ignored",
          "traceback": [
            "\u001b[0;31m---------------------------------------------------------------------------\u001b[0m",
            "\u001b[0;31mAttributeError\u001b[0m                            Traceback (most recent call last)",
            "\u001b[0;32m/usr/local/lib/python3.6/dist-packages/rasa_core/actions/factories.py\u001b[0m in \u001b[0;36m_action_class\u001b[0;34m(action_name)\u001b[0m\n\u001b[1;32m     47\u001b[0m         \u001b[0;32mtry\u001b[0m\u001b[0;34m:\u001b[0m\u001b[0;34m\u001b[0m\u001b[0;34m\u001b[0m\u001b[0m\n\u001b[0;32m---> 48\u001b[0;31m             \u001b[0mcls\u001b[0m \u001b[0;34m=\u001b[0m \u001b[0mutils\u001b[0m\u001b[0;34m.\u001b[0m\u001b[0mclass_from_module_path\u001b[0m\u001b[0;34m(\u001b[0m\u001b[0maction_name\u001b[0m\u001b[0;34m)\u001b[0m\u001b[0;34m\u001b[0m\u001b[0;34m\u001b[0m\u001b[0m\n\u001b[0m\u001b[1;32m     49\u001b[0m             \u001b[0;32mreturn\u001b[0m \u001b[0mcls\u001b[0m\u001b[0;34m(\u001b[0m\u001b[0;34m)\u001b[0m\u001b[0;34m\u001b[0m\u001b[0;34m\u001b[0m\u001b[0m\n",
            "\u001b[0;32m/usr/local/lib/python3.6/dist-packages/rasa_core/utils.py\u001b[0m in \u001b[0;36mclass_from_module_path\u001b[0;34m(module_path)\u001b[0m\n\u001b[1;32m     66\u001b[0m         \u001b[0;31m# get the class, will raise AttributeError if class cannot be found\u001b[0m\u001b[0;34m\u001b[0m\u001b[0;34m\u001b[0m\u001b[0;34m\u001b[0m\u001b[0m\n\u001b[0;32m---> 67\u001b[0;31m         \u001b[0;32mreturn\u001b[0m \u001b[0mgetattr\u001b[0m\u001b[0;34m(\u001b[0m\u001b[0mm\u001b[0m\u001b[0;34m,\u001b[0m \u001b[0mclass_name\u001b[0m\u001b[0;34m)\u001b[0m\u001b[0;34m\u001b[0m\u001b[0;34m\u001b[0m\u001b[0m\n\u001b[0m\u001b[1;32m     68\u001b[0m     \u001b[0;32melse\u001b[0m\u001b[0;34m:\u001b[0m\u001b[0;34m\u001b[0m\u001b[0;34m\u001b[0m\u001b[0m\n",
            "\u001b[0;31mAttributeError\u001b[0m: module '__main__' has no attribute 'ApiAction'",
            "\nDuring handling of the above exception, another exception occurred:\n",
            "\u001b[0;31mValueError\u001b[0m                                Traceback (most recent call last)",
            "\u001b[0;32m<ipython-input-43-2e8cbc2b814e>\u001b[0m in \u001b[0;36m<module>\u001b[0;34m()\u001b[0m\n\u001b[1;32m      2\u001b[0m \u001b[0;34m\u001b[0m\u001b[0m\n\u001b[1;32m      3\u001b[0m \u001b[0;34m\u001b[0m\u001b[0m\n\u001b[0;32m----> 4\u001b[0;31m \u001b[0magent\u001b[0m \u001b[0;34m=\u001b[0m \u001b[0mAgent\u001b[0m\u001b[0;34m(\u001b[0m\u001b[0;34m'domain.yml'\u001b[0m\u001b[0;34m)\u001b[0m\u001b[0;34m\u001b[0m\u001b[0;34m\u001b[0m\u001b[0m\n\u001b[0m\u001b[1;32m      5\u001b[0m \u001b[0magent\u001b[0m\u001b[0;34m.\u001b[0m\u001b[0mvisualize\u001b[0m\u001b[0;34m(\u001b[0m\u001b[0;34m\"stories.md\"\u001b[0m\u001b[0;34m,\u001b[0m \u001b[0;34m\"story_graph.png\"\u001b[0m\u001b[0;34m,\u001b[0m \u001b[0mmax_history\u001b[0m\u001b[0;34m=\u001b[0m\u001b[0;36m10\u001b[0m\u001b[0;34m)\u001b[0m\u001b[0;34m\u001b[0m\u001b[0;34m\u001b[0m\u001b[0m\n\u001b[1;32m      6\u001b[0m \u001b[0mImage\u001b[0m\u001b[0;34m(\u001b[0m\u001b[0mfilename\u001b[0m\u001b[0;34m=\u001b[0m\u001b[0;34m\"story_graph.png\"\u001b[0m\u001b[0;34m)\u001b[0m\u001b[0;34m\u001b[0m\u001b[0;34m\u001b[0m\u001b[0m\n",
            "\u001b[0;32m/usr/local/lib/python3.6/dist-packages/rasa_core/agent.py\u001b[0m in \u001b[0;36m__init__\u001b[0;34m(self, domain, policies, interpreter, tracker_store)\u001b[0m\n\u001b[1;32m     45\u001b[0m     ):\n\u001b[1;32m     46\u001b[0m         \u001b[0;31m# Initializing variables with the passed parameters.\u001b[0m\u001b[0;34m\u001b[0m\u001b[0;34m\u001b[0m\u001b[0;34m\u001b[0m\u001b[0m\n\u001b[0;32m---> 47\u001b[0;31m         \u001b[0mself\u001b[0m\u001b[0;34m.\u001b[0m\u001b[0mdomain\u001b[0m \u001b[0;34m=\u001b[0m \u001b[0mself\u001b[0m\u001b[0;34m.\u001b[0m\u001b[0m_create_domain\u001b[0m\u001b[0;34m(\u001b[0m\u001b[0mdomain\u001b[0m\u001b[0;34m)\u001b[0m\u001b[0;34m\u001b[0m\u001b[0;34m\u001b[0m\u001b[0m\n\u001b[0m\u001b[1;32m     48\u001b[0m         \u001b[0mself\u001b[0m\u001b[0;34m.\u001b[0m\u001b[0mpolicy_ensemble\u001b[0m \u001b[0;34m=\u001b[0m \u001b[0mself\u001b[0m\u001b[0;34m.\u001b[0m\u001b[0m_create_ensemble\u001b[0m\u001b[0;34m(\u001b[0m\u001b[0mpolicies\u001b[0m\u001b[0;34m)\u001b[0m\u001b[0;34m\u001b[0m\u001b[0;34m\u001b[0m\u001b[0m\n\u001b[1;32m     49\u001b[0m         \u001b[0mself\u001b[0m\u001b[0;34m.\u001b[0m\u001b[0minterpreter\u001b[0m \u001b[0;34m=\u001b[0m \u001b[0mNaturalLanguageInterpreter\u001b[0m\u001b[0;34m.\u001b[0m\u001b[0mcreate\u001b[0m\u001b[0;34m(\u001b[0m\u001b[0minterpreter\u001b[0m\u001b[0;34m)\u001b[0m\u001b[0;34m\u001b[0m\u001b[0;34m\u001b[0m\u001b[0m\n",
            "\u001b[0;32m/usr/local/lib/python3.6/dist-packages/rasa_core/agent.py\u001b[0m in \u001b[0;36m_create_domain\u001b[0;34m(domain)\u001b[0m\n\u001b[1;32m    383\u001b[0m \u001b[0;34m\u001b[0m\u001b[0m\n\u001b[1;32m    384\u001b[0m         \u001b[0;32mif\u001b[0m \u001b[0misinstance\u001b[0m\u001b[0;34m(\u001b[0m\u001b[0mdomain\u001b[0m\u001b[0;34m,\u001b[0m \u001b[0mstring_types\u001b[0m\u001b[0;34m)\u001b[0m\u001b[0;34m:\u001b[0m\u001b[0;34m\u001b[0m\u001b[0;34m\u001b[0m\u001b[0m\n\u001b[0;32m--> 385\u001b[0;31m             \u001b[0;32mreturn\u001b[0m \u001b[0mTemplateDomain\u001b[0m\u001b[0;34m.\u001b[0m\u001b[0mload\u001b[0m\u001b[0;34m(\u001b[0m\u001b[0mdomain\u001b[0m\u001b[0;34m)\u001b[0m\u001b[0;34m\u001b[0m\u001b[0;34m\u001b[0m\u001b[0m\n\u001b[0m\u001b[1;32m    386\u001b[0m         \u001b[0;32melif\u001b[0m \u001b[0misinstance\u001b[0m\u001b[0;34m(\u001b[0m\u001b[0mdomain\u001b[0m\u001b[0;34m,\u001b[0m \u001b[0mDomain\u001b[0m\u001b[0;34m)\u001b[0m\u001b[0;34m:\u001b[0m\u001b[0;34m\u001b[0m\u001b[0;34m\u001b[0m\u001b[0m\n\u001b[1;32m    387\u001b[0m             \u001b[0;32mreturn\u001b[0m \u001b[0mdomain\u001b[0m\u001b[0;34m\u001b[0m\u001b[0;34m\u001b[0m\u001b[0m\n",
            "\u001b[0;32m/usr/local/lib/python3.6/dist-packages/rasa_core/domain.py\u001b[0m in \u001b[0;36mload\u001b[0;34m(cls, filename, action_factory)\u001b[0m\n\u001b[1;32m    419\u001b[0m                 \u001b[0maction_factory\u001b[0m\u001b[0;34m,\u001b[0m\u001b[0;34m\u001b[0m\u001b[0;34m\u001b[0m\u001b[0m\n\u001b[1;32m    420\u001b[0m                 \u001b[0mtopics\u001b[0m\u001b[0;34m,\u001b[0m\u001b[0;34m\u001b[0m\u001b[0;34m\u001b[0m\u001b[0m\n\u001b[0;32m--> 421\u001b[0;31m                 \u001b[0;34m**\u001b[0m\u001b[0madditional_arguments\u001b[0m\u001b[0;34m\u001b[0m\u001b[0;34m\u001b[0m\u001b[0m\n\u001b[0m\u001b[1;32m    422\u001b[0m         )\n\u001b[1;32m    423\u001b[0m \u001b[0;34m\u001b[0m\u001b[0m\n",
            "\u001b[0;32m/usr/local/lib/python3.6/dist-packages/rasa_core/domain.py\u001b[0m in \u001b[0;36m__init__\u001b[0;34m(self, intents, entities, slots, templates, action_classes, action_names, action_factory, topics, **kwargs)\u001b[0m\n\u001b[1;32m    491\u001b[0m         \u001b[0mself\u001b[0m\u001b[0;34m.\u001b[0m\u001b[0m_factory_name\u001b[0m \u001b[0;34m=\u001b[0m \u001b[0maction_factory\u001b[0m\u001b[0;34m\u001b[0m\u001b[0;34m\u001b[0m\u001b[0m\n\u001b[1;32m    492\u001b[0m         self._actions = self.instantiate_actions(\n\u001b[0;32m--> 493\u001b[0;31m                 action_factory, action_classes, action_names, templates)\n\u001b[0m\u001b[1;32m    494\u001b[0m         \u001b[0msuper\u001b[0m\u001b[0;34m(\u001b[0m\u001b[0mTemplateDomain\u001b[0m\u001b[0;34m,\u001b[0m \u001b[0mself\u001b[0m\u001b[0;34m)\u001b[0m\u001b[0;34m.\u001b[0m\u001b[0m__init__\u001b[0m\u001b[0;34m(\u001b[0m\u001b[0mtopics\u001b[0m\u001b[0;34m,\u001b[0m \u001b[0;34m**\u001b[0m\u001b[0mkwargs\u001b[0m\u001b[0;34m)\u001b[0m\u001b[0;34m\u001b[0m\u001b[0;34m\u001b[0m\u001b[0m\n\u001b[1;32m    495\u001b[0m \u001b[0;34m\u001b[0m\u001b[0m\n",
            "\u001b[0;32m/usr/local/lib/python3.6/dist-packages/rasa_core/domain.py\u001b[0m in \u001b[0;36minstantiate_actions\u001b[0;34m(factory_name, action_classes, action_names, templates)\u001b[0m\n\u001b[1;32m    498\u001b[0m                             templates):\n\u001b[1;32m    499\u001b[0m         \u001b[0maction_factory\u001b[0m \u001b[0;34m=\u001b[0m \u001b[0maction_factory_by_name\u001b[0m\u001b[0;34m(\u001b[0m\u001b[0mfactory_name\u001b[0m\u001b[0;34m)\u001b[0m\u001b[0;34m\u001b[0m\u001b[0;34m\u001b[0m\u001b[0m\n\u001b[0;32m--> 500\u001b[0;31m         \u001b[0mcustom_actions\u001b[0m \u001b[0;34m=\u001b[0m \u001b[0maction_factory\u001b[0m\u001b[0;34m(\u001b[0m\u001b[0maction_classes\u001b[0m\u001b[0;34m,\u001b[0m \u001b[0maction_names\u001b[0m\u001b[0;34m,\u001b[0m \u001b[0mtemplates\u001b[0m\u001b[0;34m)\u001b[0m\u001b[0;34m\u001b[0m\u001b[0;34m\u001b[0m\u001b[0m\n\u001b[0m\u001b[1;32m    501\u001b[0m         \u001b[0mactions\u001b[0m \u001b[0;34m=\u001b[0m \u001b[0mDomain\u001b[0m\u001b[0;34m.\u001b[0m\u001b[0mDEFAULT_ACTIONS\u001b[0m\u001b[0;34m[\u001b[0m\u001b[0;34m:\u001b[0m\u001b[0;34m]\u001b[0m \u001b[0;34m+\u001b[0m \u001b[0mcustom_actions\u001b[0m\u001b[0;34m\u001b[0m\u001b[0;34m\u001b[0m\u001b[0m\n\u001b[1;32m    502\u001b[0m         \u001b[0mensure_action_name_uniqueness\u001b[0m\u001b[0;34m(\u001b[0m\u001b[0mactions\u001b[0m\u001b[0;34m)\u001b[0m\u001b[0;34m\u001b[0m\u001b[0;34m\u001b[0m\u001b[0m\n",
            "\u001b[0;32m/usr/local/lib/python3.6/dist-packages/rasa_core/actions/factories.py\u001b[0m in \u001b[0;36mlocal_action_factory\u001b[0;34m(action_classes, action_names, utter_templates)\u001b[0m\n\u001b[1;32m     75\u001b[0m             \u001b[0mactions\u001b[0m\u001b[0;34m.\u001b[0m\u001b[0mappend\u001b[0m\u001b[0;34m(\u001b[0m\u001b[0mUtterAction\u001b[0m\u001b[0;34m(\u001b[0m\u001b[0mname\u001b[0m\u001b[0;34m)\u001b[0m\u001b[0;34m)\u001b[0m\u001b[0;34m\u001b[0m\u001b[0;34m\u001b[0m\u001b[0m\n\u001b[1;32m     76\u001b[0m         \u001b[0;32melse\u001b[0m\u001b[0;34m:\u001b[0m\u001b[0;34m\u001b[0m\u001b[0;34m\u001b[0m\u001b[0m\n\u001b[0;32m---> 77\u001b[0;31m             \u001b[0mactions\u001b[0m\u001b[0;34m.\u001b[0m\u001b[0mappend\u001b[0m\u001b[0;34m(\u001b[0m\u001b[0m_action_class\u001b[0m\u001b[0;34m(\u001b[0m\u001b[0mname\u001b[0m\u001b[0;34m)\u001b[0m\u001b[0;34m)\u001b[0m\u001b[0;34m\u001b[0m\u001b[0;34m\u001b[0m\u001b[0m\n\u001b[0m\u001b[1;32m     78\u001b[0m \u001b[0;34m\u001b[0m\u001b[0m\n\u001b[1;32m     79\u001b[0m     \u001b[0;32mreturn\u001b[0m \u001b[0mactions\u001b[0m\u001b[0;34m\u001b[0m\u001b[0;34m\u001b[0m\u001b[0m\n",
            "\u001b[0;32m/usr/local/lib/python3.6/dist-packages/rasa_core/actions/factories.py\u001b[0m in \u001b[0;36m_action_class\u001b[0;34m(action_name)\u001b[0m\n\u001b[1;32m     67\u001b[0m                     \u001b[0;34m\"Module doesn't contain a class with this name. \"\u001b[0m\u001b[0;34m\u001b[0m\u001b[0;34m\u001b[0m\u001b[0m\n\u001b[1;32m     68\u001b[0m                     \u001b[0;34m\"Remember to prefix actions that should utter a template \"\u001b[0m\u001b[0;34m\u001b[0m\u001b[0;34m\u001b[0m\u001b[0m\n\u001b[0;32m---> 69\u001b[0;31m                     \"with `utter_`. Error: {}\".format(action_name, e))\n\u001b[0m\u001b[1;32m     70\u001b[0m \u001b[0;34m\u001b[0m\u001b[0m\n\u001b[1;32m     71\u001b[0m     \u001b[0mactions\u001b[0m \u001b[0;34m=\u001b[0m \u001b[0;34m[\u001b[0m\u001b[0;34m]\u001b[0m\u001b[0;34m\u001b[0m\u001b[0;34m\u001b[0m\u001b[0m\n",
            "\u001b[0;31mValueError\u001b[0m: Action '__main__.ApiAction' doesn't correspond to a template / action. Module doesn't contain a class with this name. Remember to prefix actions that should utter a template with `utter_`. Error: module '__main__' has no attribute 'ApiAction'"
          ]
        }
      ]
    },
    {
      "cell_type": "markdown",
      "metadata": {
        "id": "4ror3zGQPSt9",
        "colab_type": "text"
      },
      "source": [
        "[link text](https:// [link text](https://))### Training the Dialogue Model\n",
        "\n",
        "This is a the training step of the dialogue management model with a neural network implemented in Keras splitting the dataset (90% train-10%test) and 50 epochs."
      ]
    },
    {
      "cell_type": "code",
      "metadata": {
        "id": "jmUYJfQgaP2w",
        "colab_type": "code",
        "outputId": "839511ab-fc59-4955-de2d-38b4643cad5c",
        "colab": {
          "base_uri": "https://localhost:8080/",
          "height": 461
        }
      },
      "source": [
        "from rasa_core.policies import FallbackPolicy, KerasPolicy, MemoizationPolicy\n",
        "from rasa_core.agent import Agent\n",
        "\n",
        "\n",
        "fallback = FallbackPolicy(fallback_action_name=\"action_default\",\n",
        "                          core_threshold=0.3,\n",
        "                          nlu_threshold=0.3)\n",
        "agent = Agent('domain.yml', policies=[MemoizationPolicy(max_history=5)])\n",
        "\n",
        "# loading our neatly defined training dialogues\n",
        "training_data = agent.load_data('stories.md',augmentation_factor=0)\n",
        "\n",
        "agent.train(\n",
        "    training_data,\n",
        "    validation_split=0.1,\n",
        "    epochs=50\n",
        ")\n",
        "\n",
        "agent.persist('models/dialogue')"
      ],
      "execution_count": 38,
      "outputs": [
        {
          "output_type": "error",
          "ename": "ValueError",
          "evalue": "ignored",
          "traceback": [
            "\u001b[0;31m---------------------------------------------------------------------------\u001b[0m",
            "\u001b[0;31mAttributeError\u001b[0m                            Traceback (most recent call last)",
            "\u001b[0;32m/usr/local/lib/python3.6/dist-packages/rasa_core/actions/factories.py\u001b[0m in \u001b[0;36m_action_class\u001b[0;34m(action_name)\u001b[0m\n\u001b[1;32m     47\u001b[0m         \u001b[0;32mtry\u001b[0m\u001b[0;34m:\u001b[0m\u001b[0;34m\u001b[0m\u001b[0;34m\u001b[0m\u001b[0m\n\u001b[0;32m---> 48\u001b[0;31m             \u001b[0mcls\u001b[0m \u001b[0;34m=\u001b[0m \u001b[0mutils\u001b[0m\u001b[0;34m.\u001b[0m\u001b[0mclass_from_module_path\u001b[0m\u001b[0;34m(\u001b[0m\u001b[0maction_name\u001b[0m\u001b[0;34m)\u001b[0m\u001b[0;34m\u001b[0m\u001b[0;34m\u001b[0m\u001b[0m\n\u001b[0m\u001b[1;32m     49\u001b[0m             \u001b[0;32mreturn\u001b[0m \u001b[0mcls\u001b[0m\u001b[0;34m(\u001b[0m\u001b[0;34m)\u001b[0m\u001b[0;34m\u001b[0m\u001b[0;34m\u001b[0m\u001b[0m\n",
            "\u001b[0;32m/usr/local/lib/python3.6/dist-packages/rasa_core/utils.py\u001b[0m in \u001b[0;36mclass_from_module_path\u001b[0;34m(module_path)\u001b[0m\n\u001b[1;32m     66\u001b[0m         \u001b[0;31m# get the class, will raise AttributeError if class cannot be found\u001b[0m\u001b[0;34m\u001b[0m\u001b[0;34m\u001b[0m\u001b[0;34m\u001b[0m\u001b[0m\n\u001b[0;32m---> 67\u001b[0;31m         \u001b[0;32mreturn\u001b[0m \u001b[0mgetattr\u001b[0m\u001b[0;34m(\u001b[0m\u001b[0mm\u001b[0m\u001b[0;34m,\u001b[0m \u001b[0mclass_name\u001b[0m\u001b[0;34m)\u001b[0m\u001b[0;34m\u001b[0m\u001b[0;34m\u001b[0m\u001b[0m\n\u001b[0m\u001b[1;32m     68\u001b[0m     \u001b[0;32melse\u001b[0m\u001b[0;34m:\u001b[0m\u001b[0;34m\u001b[0m\u001b[0;34m\u001b[0m\u001b[0m\n",
            "\u001b[0;31mAttributeError\u001b[0m: module '__main__' has no attribute 'ApiAction'",
            "\nDuring handling of the above exception, another exception occurred:\n",
            "\u001b[0;31mValueError\u001b[0m                                Traceback (most recent call last)",
            "\u001b[0;32m<ipython-input-38-e0af193ba028>\u001b[0m in \u001b[0;36m<module>\u001b[0;34m()\u001b[0m\n\u001b[1;32m      6\u001b[0m                           \u001b[0mcore_threshold\u001b[0m\u001b[0;34m=\u001b[0m\u001b[0;36m0.3\u001b[0m\u001b[0;34m,\u001b[0m\u001b[0;34m\u001b[0m\u001b[0;34m\u001b[0m\u001b[0m\n\u001b[1;32m      7\u001b[0m                           nlu_threshold=0.3)\n\u001b[0;32m----> 8\u001b[0;31m \u001b[0magent\u001b[0m \u001b[0;34m=\u001b[0m \u001b[0mAgent\u001b[0m\u001b[0;34m(\u001b[0m\u001b[0;34m'domain.yml'\u001b[0m\u001b[0;34m,\u001b[0m \u001b[0mpolicies\u001b[0m\u001b[0;34m=\u001b[0m\u001b[0;34m[\u001b[0m\u001b[0mMemoizationPolicy\u001b[0m\u001b[0;34m(\u001b[0m\u001b[0mmax_history\u001b[0m\u001b[0;34m=\u001b[0m\u001b[0;36m5\u001b[0m\u001b[0;34m)\u001b[0m\u001b[0;34m]\u001b[0m\u001b[0;34m)\u001b[0m\u001b[0;34m\u001b[0m\u001b[0;34m\u001b[0m\u001b[0m\n\u001b[0m\u001b[1;32m      9\u001b[0m \u001b[0;34m\u001b[0m\u001b[0m\n\u001b[1;32m     10\u001b[0m \u001b[0;31m# loading our neatly defined training dialogues\u001b[0m\u001b[0;34m\u001b[0m\u001b[0;34m\u001b[0m\u001b[0;34m\u001b[0m\u001b[0m\n",
            "\u001b[0;32m/usr/local/lib/python3.6/dist-packages/rasa_core/agent.py\u001b[0m in \u001b[0;36m__init__\u001b[0;34m(self, domain, policies, interpreter, tracker_store)\u001b[0m\n\u001b[1;32m     45\u001b[0m     ):\n\u001b[1;32m     46\u001b[0m         \u001b[0;31m# Initializing variables with the passed parameters.\u001b[0m\u001b[0;34m\u001b[0m\u001b[0;34m\u001b[0m\u001b[0;34m\u001b[0m\u001b[0m\n\u001b[0;32m---> 47\u001b[0;31m         \u001b[0mself\u001b[0m\u001b[0;34m.\u001b[0m\u001b[0mdomain\u001b[0m \u001b[0;34m=\u001b[0m \u001b[0mself\u001b[0m\u001b[0;34m.\u001b[0m\u001b[0m_create_domain\u001b[0m\u001b[0;34m(\u001b[0m\u001b[0mdomain\u001b[0m\u001b[0;34m)\u001b[0m\u001b[0;34m\u001b[0m\u001b[0;34m\u001b[0m\u001b[0m\n\u001b[0m\u001b[1;32m     48\u001b[0m         \u001b[0mself\u001b[0m\u001b[0;34m.\u001b[0m\u001b[0mpolicy_ensemble\u001b[0m \u001b[0;34m=\u001b[0m \u001b[0mself\u001b[0m\u001b[0;34m.\u001b[0m\u001b[0m_create_ensemble\u001b[0m\u001b[0;34m(\u001b[0m\u001b[0mpolicies\u001b[0m\u001b[0;34m)\u001b[0m\u001b[0;34m\u001b[0m\u001b[0;34m\u001b[0m\u001b[0m\n\u001b[1;32m     49\u001b[0m         \u001b[0mself\u001b[0m\u001b[0;34m.\u001b[0m\u001b[0minterpreter\u001b[0m \u001b[0;34m=\u001b[0m \u001b[0mNaturalLanguageInterpreter\u001b[0m\u001b[0;34m.\u001b[0m\u001b[0mcreate\u001b[0m\u001b[0;34m(\u001b[0m\u001b[0minterpreter\u001b[0m\u001b[0;34m)\u001b[0m\u001b[0;34m\u001b[0m\u001b[0;34m\u001b[0m\u001b[0m\n",
            "\u001b[0;32m/usr/local/lib/python3.6/dist-packages/rasa_core/agent.py\u001b[0m in \u001b[0;36m_create_domain\u001b[0;34m(domain)\u001b[0m\n\u001b[1;32m    383\u001b[0m \u001b[0;34m\u001b[0m\u001b[0m\n\u001b[1;32m    384\u001b[0m         \u001b[0;32mif\u001b[0m \u001b[0misinstance\u001b[0m\u001b[0;34m(\u001b[0m\u001b[0mdomain\u001b[0m\u001b[0;34m,\u001b[0m \u001b[0mstring_types\u001b[0m\u001b[0;34m)\u001b[0m\u001b[0;34m:\u001b[0m\u001b[0;34m\u001b[0m\u001b[0;34m\u001b[0m\u001b[0m\n\u001b[0;32m--> 385\u001b[0;31m             \u001b[0;32mreturn\u001b[0m \u001b[0mTemplateDomain\u001b[0m\u001b[0;34m.\u001b[0m\u001b[0mload\u001b[0m\u001b[0;34m(\u001b[0m\u001b[0mdomain\u001b[0m\u001b[0;34m)\u001b[0m\u001b[0;34m\u001b[0m\u001b[0;34m\u001b[0m\u001b[0m\n\u001b[0m\u001b[1;32m    386\u001b[0m         \u001b[0;32melif\u001b[0m \u001b[0misinstance\u001b[0m\u001b[0;34m(\u001b[0m\u001b[0mdomain\u001b[0m\u001b[0;34m,\u001b[0m \u001b[0mDomain\u001b[0m\u001b[0;34m)\u001b[0m\u001b[0;34m:\u001b[0m\u001b[0;34m\u001b[0m\u001b[0;34m\u001b[0m\u001b[0m\n\u001b[1;32m    387\u001b[0m             \u001b[0;32mreturn\u001b[0m \u001b[0mdomain\u001b[0m\u001b[0;34m\u001b[0m\u001b[0;34m\u001b[0m\u001b[0m\n",
            "\u001b[0;32m/usr/local/lib/python3.6/dist-packages/rasa_core/domain.py\u001b[0m in \u001b[0;36mload\u001b[0;34m(cls, filename, action_factory)\u001b[0m\n\u001b[1;32m    419\u001b[0m                 \u001b[0maction_factory\u001b[0m\u001b[0;34m,\u001b[0m\u001b[0;34m\u001b[0m\u001b[0;34m\u001b[0m\u001b[0m\n\u001b[1;32m    420\u001b[0m                 \u001b[0mtopics\u001b[0m\u001b[0;34m,\u001b[0m\u001b[0;34m\u001b[0m\u001b[0;34m\u001b[0m\u001b[0m\n\u001b[0;32m--> 421\u001b[0;31m                 \u001b[0;34m**\u001b[0m\u001b[0madditional_arguments\u001b[0m\u001b[0;34m\u001b[0m\u001b[0;34m\u001b[0m\u001b[0m\n\u001b[0m\u001b[1;32m    422\u001b[0m         )\n\u001b[1;32m    423\u001b[0m \u001b[0;34m\u001b[0m\u001b[0m\n",
            "\u001b[0;32m/usr/local/lib/python3.6/dist-packages/rasa_core/domain.py\u001b[0m in \u001b[0;36m__init__\u001b[0;34m(self, intents, entities, slots, templates, action_classes, action_names, action_factory, topics, **kwargs)\u001b[0m\n\u001b[1;32m    491\u001b[0m         \u001b[0mself\u001b[0m\u001b[0;34m.\u001b[0m\u001b[0m_factory_name\u001b[0m \u001b[0;34m=\u001b[0m \u001b[0maction_factory\u001b[0m\u001b[0;34m\u001b[0m\u001b[0;34m\u001b[0m\u001b[0m\n\u001b[1;32m    492\u001b[0m         self._actions = self.instantiate_actions(\n\u001b[0;32m--> 493\u001b[0;31m                 action_factory, action_classes, action_names, templates)\n\u001b[0m\u001b[1;32m    494\u001b[0m         \u001b[0msuper\u001b[0m\u001b[0;34m(\u001b[0m\u001b[0mTemplateDomain\u001b[0m\u001b[0;34m,\u001b[0m \u001b[0mself\u001b[0m\u001b[0;34m)\u001b[0m\u001b[0;34m.\u001b[0m\u001b[0m__init__\u001b[0m\u001b[0;34m(\u001b[0m\u001b[0mtopics\u001b[0m\u001b[0;34m,\u001b[0m \u001b[0;34m**\u001b[0m\u001b[0mkwargs\u001b[0m\u001b[0;34m)\u001b[0m\u001b[0;34m\u001b[0m\u001b[0;34m\u001b[0m\u001b[0m\n\u001b[1;32m    495\u001b[0m \u001b[0;34m\u001b[0m\u001b[0m\n",
            "\u001b[0;32m/usr/local/lib/python3.6/dist-packages/rasa_core/domain.py\u001b[0m in \u001b[0;36minstantiate_actions\u001b[0;34m(factory_name, action_classes, action_names, templates)\u001b[0m\n\u001b[1;32m    498\u001b[0m                             templates):\n\u001b[1;32m    499\u001b[0m         \u001b[0maction_factory\u001b[0m \u001b[0;34m=\u001b[0m \u001b[0maction_factory_by_name\u001b[0m\u001b[0;34m(\u001b[0m\u001b[0mfactory_name\u001b[0m\u001b[0;34m)\u001b[0m\u001b[0;34m\u001b[0m\u001b[0;34m\u001b[0m\u001b[0m\n\u001b[0;32m--> 500\u001b[0;31m         \u001b[0mcustom_actions\u001b[0m \u001b[0;34m=\u001b[0m \u001b[0maction_factory\u001b[0m\u001b[0;34m(\u001b[0m\u001b[0maction_classes\u001b[0m\u001b[0;34m,\u001b[0m \u001b[0maction_names\u001b[0m\u001b[0;34m,\u001b[0m \u001b[0mtemplates\u001b[0m\u001b[0;34m)\u001b[0m\u001b[0;34m\u001b[0m\u001b[0;34m\u001b[0m\u001b[0m\n\u001b[0m\u001b[1;32m    501\u001b[0m         \u001b[0mactions\u001b[0m \u001b[0;34m=\u001b[0m \u001b[0mDomain\u001b[0m\u001b[0;34m.\u001b[0m\u001b[0mDEFAULT_ACTIONS\u001b[0m\u001b[0;34m[\u001b[0m\u001b[0;34m:\u001b[0m\u001b[0;34m]\u001b[0m \u001b[0;34m+\u001b[0m \u001b[0mcustom_actions\u001b[0m\u001b[0;34m\u001b[0m\u001b[0;34m\u001b[0m\u001b[0m\n\u001b[1;32m    502\u001b[0m         \u001b[0mensure_action_name_uniqueness\u001b[0m\u001b[0;34m(\u001b[0m\u001b[0mactions\u001b[0m\u001b[0;34m)\u001b[0m\u001b[0;34m\u001b[0m\u001b[0;34m\u001b[0m\u001b[0m\n",
            "\u001b[0;32m/usr/local/lib/python3.6/dist-packages/rasa_core/actions/factories.py\u001b[0m in \u001b[0;36mlocal_action_factory\u001b[0;34m(action_classes, action_names, utter_templates)\u001b[0m\n\u001b[1;32m     75\u001b[0m             \u001b[0mactions\u001b[0m\u001b[0;34m.\u001b[0m\u001b[0mappend\u001b[0m\u001b[0;34m(\u001b[0m\u001b[0mUtterAction\u001b[0m\u001b[0;34m(\u001b[0m\u001b[0mname\u001b[0m\u001b[0;34m)\u001b[0m\u001b[0;34m)\u001b[0m\u001b[0;34m\u001b[0m\u001b[0;34m\u001b[0m\u001b[0m\n\u001b[1;32m     76\u001b[0m         \u001b[0;32melse\u001b[0m\u001b[0;34m:\u001b[0m\u001b[0;34m\u001b[0m\u001b[0;34m\u001b[0m\u001b[0m\n\u001b[0;32m---> 77\u001b[0;31m             \u001b[0mactions\u001b[0m\u001b[0;34m.\u001b[0m\u001b[0mappend\u001b[0m\u001b[0;34m(\u001b[0m\u001b[0m_action_class\u001b[0m\u001b[0;34m(\u001b[0m\u001b[0mname\u001b[0m\u001b[0;34m)\u001b[0m\u001b[0;34m)\u001b[0m\u001b[0;34m\u001b[0m\u001b[0;34m\u001b[0m\u001b[0m\n\u001b[0m\u001b[1;32m     78\u001b[0m \u001b[0;34m\u001b[0m\u001b[0m\n\u001b[1;32m     79\u001b[0m     \u001b[0;32mreturn\u001b[0m \u001b[0mactions\u001b[0m\u001b[0;34m\u001b[0m\u001b[0;34m\u001b[0m\u001b[0m\n",
            "\u001b[0;32m/usr/local/lib/python3.6/dist-packages/rasa_core/actions/factories.py\u001b[0m in \u001b[0;36m_action_class\u001b[0;34m(action_name)\u001b[0m\n\u001b[1;32m     67\u001b[0m                     \u001b[0;34m\"Module doesn't contain a class with this name. \"\u001b[0m\u001b[0;34m\u001b[0m\u001b[0;34m\u001b[0m\u001b[0m\n\u001b[1;32m     68\u001b[0m                     \u001b[0;34m\"Remember to prefix actions that should utter a template \"\u001b[0m\u001b[0;34m\u001b[0m\u001b[0;34m\u001b[0m\u001b[0m\n\u001b[0;32m---> 69\u001b[0;31m                     \"with `utter_`. Error: {}\".format(action_name, e))\n\u001b[0m\u001b[1;32m     70\u001b[0m \u001b[0;34m\u001b[0m\u001b[0m\n\u001b[1;32m     71\u001b[0m     \u001b[0mactions\u001b[0m \u001b[0;34m=\u001b[0m \u001b[0;34m[\u001b[0m\u001b[0;34m]\u001b[0m\u001b[0;34m\u001b[0m\u001b[0;34m\u001b[0m\u001b[0m\n",
            "\u001b[0;31mValueError\u001b[0m: Action '__main__.ApiAction' doesn't correspond to a template / action. Module doesn't contain a class with this name. Remember to prefix actions that should utter a template with `utter_`. Error: module '__main__' has no attribute 'ApiAction'"
          ]
        }
      ]
    },
    {
      "cell_type": "markdown",
      "metadata": {
        "id": "LgYGMMASPc9f",
        "colab_type": "text"
      },
      "source": [
        ""
      ]
    },
    {
      "cell_type": "code",
      "metadata": {
        "id": "iBJserextrVH",
        "colab_type": "code",
        "colab": {}
      },
      "source": [
        "from rasa_core.agent import Agent\n",
        "agent = Agent.load('models/dialogue', interpreter=model_directory)"
      ],
      "execution_count": 0,
      "outputs": []
    },
    {
      "cell_type": "markdown",
      "metadata": {
        "id": "v5FtSymfPico",
        "colab_type": "text"
      },
      "source": [
        "### Talking to the Bot "
      ]
    },
    {
      "cell_type": "code",
      "metadata": {
        "id": "boc1DGIpPPQF",
        "colab_type": "code",
        "colab": {}
      },
      "source": [
        "\n",
        "# from rasa_core.policies import FallbackPolicy, KerasPolicy, MemoizationPolicy\n",
        "# from rasa_core.agent import Agent\n",
        "\n",
        "\n",
        "# fallback = FallbackPolicy(fallback_action_name=\"action_default\",\n",
        "#                           core_threshold=0.3,\n",
        "#                           nlu_threshold=0.3)\n",
        "# agent = Agent('domain.yml', policies=[MemoizationPolicy(max_history=5)])\n",
        "\n",
        "# # loading our neatly defined training dialogues\n",
        "# training_data = agent.load_data('stories.md',augmentation_factor=0)\n",
        "\n",
        "# agent.train(\n",
        "#     training_data,\n",
        "#     validation_split=0.1,\n",
        "#     epochs=50\n",
        "# )\n",
        "# agent.persist('models/dialogue')"
      ],
      "execution_count": 0,
      "outputs": []
    },
    {
      "cell_type": "code",
      "metadata": {
        "id": "dN81yvX3yT0C",
        "colab_type": "code",
        "colab": {}
      },
      "source": [
        "def getReply(msg_user):\n",
        "\n",
        "\n",
        "  from rasa_core.policies import FallbackPolicy, KerasPolicy, MemoizationPolicy\n",
        "  from rasa_core.agent import Agent\n",
        "\n",
        "\n",
        "  agent = Agent('domain.yml', policies=[MemoizationPolicy(max_history=5)])\n",
        "\n",
        "  # loading our neatly defined training dialogues\n",
        "  training_data = agent.load_data('stories.md',augmentation_factor=0)\n",
        "\n",
        "  agent.train(\n",
        "      training_data,\n",
        "      validation_split=0.1,\n",
        "      epochs=50\n",
        "  )\n",
        "  agent.persist('models/dialogue')\n",
        "\n",
        "\n",
        "  from rasa_core.agent import Agent\n",
        "  agent = Agent.load('models/dialogue', interpreter=model_directory)\n",
        "  print(\"Your bot is ready to talk! Start to say 'hello' or say 'stop' to finish or restart your dialogue\")\n",
        "\n",
        "\n",
        "  from rasa_core.policies import FallbackPolicy, KerasPolicy, MemoizationPolicy\n",
        "  from rasa_core.agent import Agent\n",
        "\n",
        "  i=0\n",
        "  msgs=\"\"\n",
        "  while True:\n",
        "      #msg_user=input()\n",
        "      if(i==0):\n",
        "        a=\"hello\"\n",
        "      else:\n",
        "        a = msg_user\n",
        "      #pprint(interpreter.parse(a))\n",
        "      if(i>4):\n",
        "        break;\n",
        "      if a == 'stop':\n",
        "          break\n",
        "      else:\n",
        "          responses = agent.handle_message(a)\n",
        "          \n",
        "          \n",
        "          for response in responses:\n",
        "              if(a==\"start\"):\n",
        "                msgs=response[\"text\"]\n",
        "              else:\n",
        "                msgs=response[\"text\"]\n",
        "              \n",
        "      i+=1\n",
        "  return msgs           \n",
        "            "
      ],
      "execution_count": 0,
      "outputs": []
    },
    {
      "cell_type": "code",
      "metadata": {
        "id": "jc-s6WXivbr5",
        "colab_type": "code",
        "colab": {}
      },
      "source": [
        "from IPython.display import clear_output\n",
        "\n",
        "import mysql.connector\n",
        "from mysql.connector.constants import ClientFlag\n",
        "\n",
        "config = {\n",
        "    'user': 'mrdevuj6_cmnuser',\n",
        "    'password': '0486R@fika',\n",
        "    'host': 'mrdev.co.in',\n",
        "}\n",
        "clear_output()\n",
        "cnx = mysql.connector.connect(**config)\n",
        "cur = cnx.cursor(buffered=True)\n",
        "msg_txt=\"\"\n",
        "while True:\n",
        "  cur.execute(\"select * from mrdevuj6_devathon.chats where cstatus='P' limit 1;\")\n",
        "  rrow=cur.fetchone()\n",
        "  if(rrow):\n",
        "    msg_txt=rrow[1]\n",
        "    print(msg_txt)\n",
        "    rply=getReply(msg_txt)\n",
        "    qry=\"update mrdevuj6_devathon.chats set chat_reply='\"+str(rply)+\"',cstatus='C' where  chat_id=\"+str(rrow[0])+\";\"\n",
        "    #print(qry)\n",
        "    cur.execute(qry)\n",
        "    print(rply)\n",
        "  if(msg_txt==\"stop\"):\n",
        "    break;\n",
        "      \n",
        "   \n",
        "#print(cur.fetchone())\n",
        "cur.close()\n",
        "cnx.close()"
      ],
      "execution_count": 0,
      "outputs": []
    },
    {
      "cell_type": "code",
      "metadata": {
        "id": "u_D-Ei-EtuRo",
        "colab_type": "code",
        "colab": {}
      },
      "source": [
        "\"\"\n",
        "            \n",
        "            \n",
        "        "
      ],
      "execution_count": 0,
      "outputs": []
    }
  ]
}